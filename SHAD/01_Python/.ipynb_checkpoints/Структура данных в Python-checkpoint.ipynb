{
 "cells": [
  {
   "cell_type": "markdown",
   "id": "207ba43f",
   "metadata": {},
   "source": [
    "## 1. Структура данных в Python"
   ]
  },
  {
   "cell_type": "code",
   "execution_count": 5,
   "id": "3b2679be",
   "metadata": {},
   "outputs": [
    {
     "name": "stdout",
     "output_type": "stream",
     "text": [
      "4322613440\n",
      "<class 'int'>\n"
     ]
    }
   ],
   "source": [
    "a = 1\n",
    "print(id(a))\n",
    "print(type(a))"
   ]
  },
  {
   "cell_type": "code",
   "execution_count": 6,
   "id": "f822e830",
   "metadata": {},
   "outputs": [
    {
     "data": {
      "text/plain": [
       "True"
      ]
     },
     "execution_count": 6,
     "metadata": {},
     "output_type": "execute_result"
    }
   ],
   "source": [
    "a = 1\n",
    "b = 1\n",
    "a is b"
   ]
  },
  {
   "cell_type": "code",
   "execution_count": 7,
   "id": "e30dd3a7",
   "metadata": {},
   "outputs": [
    {
     "data": {
      "text/plain": [
       "True"
      ]
     },
     "execution_count": 7,
     "metadata": {},
     "output_type": "execute_result"
    }
   ],
   "source": [
    "id(a) == id(b)"
   ]
  },
  {
   "cell_type": "markdown",
   "id": "4143bfcc",
   "metadata": {},
   "source": [
    "| Variable name      | Address     | Value |\n",
    "| -----------        | ----------- |------ |\n",
    "| a                  | A           | 257   |\n",
    "| b                  | B           | 257   |\n",
    "| Paragraph          | Text        | 1     |"
   ]
  },
  {
   "cell_type": "code",
   "execution_count": 9,
   "id": "46985e05",
   "metadata": {},
   "outputs": [
    {
     "data": {
      "text/plain": [
       "False"
      ]
     },
     "execution_count": 9,
     "metadata": {},
     "output_type": "execute_result"
    }
   ],
   "source": [
    "a = 257\n",
    "b = 257\n",
    "\n",
    "id(a) == id(b)"
   ]
  },
  {
   "cell_type": "code",
   "execution_count": 10,
   "id": "2367baea",
   "metadata": {},
   "outputs": [
    {
     "data": {
      "text/plain": [
       "False"
      ]
     },
     "execution_count": 10,
     "metadata": {},
     "output_type": "execute_result"
    }
   ],
   "source": [
    "a = 1 \n",
    "A = id(a)\n",
    "\n",
    "a = 2\n",
    "\n",
    "A == id(a)"
   ]
  },
  {
   "cell_type": "code",
   "execution_count": 14,
   "id": "e56846f9",
   "metadata": {},
   "outputs": [
    {
     "name": "stdout",
     "output_type": "stream",
     "text": [
      "140527281857968\n",
      "140527281857968\n"
     ]
    },
    {
     "data": {
      "text/plain": [
       "True"
      ]
     },
     "execution_count": 14,
     "metadata": {},
     "output_type": "execute_result"
    }
   ],
   "source": [
    "a = 257\n",
    "\n",
    "A = id(a)\n",
    "\n",
    "b = a\n",
    "\n",
    "B = id(b)\n",
    "print(B)\n",
    "b = b+1\n",
    "print(B)\n",
    "A == B"
   ]
  },
  {
   "cell_type": "code",
   "execution_count": 16,
   "id": "08ff0f86",
   "metadata": {},
   "outputs": [
    {
     "data": {
      "text/plain": [
       "32"
      ]
     },
     "execution_count": 16,
     "metadata": {},
     "output_type": "execute_result"
    }
   ],
   "source": [
    "2**5"
   ]
  },
  {
   "cell_type": "code",
   "execution_count": 18,
   "id": "037d7f18",
   "metadata": {},
   "outputs": [
    {
     "data": {
      "text/plain": [
       "False"
      ]
     },
     "execution_count": 18,
     "metadata": {},
     "output_type": "execute_result"
    }
   ],
   "source": [
    "a = 1.1\n",
    "b = 1.1 \n",
    "id(a) ==id(b)"
   ]
  },
  {
   "cell_type": "code",
   "execution_count": 23,
   "id": "d569e383",
   "metadata": {},
   "outputs": [
    {
     "data": {
      "text/plain": [
       "(True, True)"
      ]
     },
     "execution_count": 23,
     "metadata": {},
     "output_type": "execute_result"
    }
   ],
   "source": [
    "a = 1.1\n",
    "\n",
    "A = id(a)\n",
    "\n",
    "b = a\n",
    "\n",
    "B = id(b)\n",
    "\n",
    "# b = b + 1.45\n",
    "\n",
    "id(a) == A, id(b)==B"
   ]
  },
  {
   "cell_type": "code",
   "execution_count": 24,
   "id": "9716963b",
   "metadata": {},
   "outputs": [
    {
     "data": {
      "text/plain": [
       "140527281858224"
      ]
     },
     "execution_count": 24,
     "metadata": {},
     "output_type": "execute_result"
    }
   ],
   "source": [
    "id(b)"
   ]
  },
  {
   "cell_type": "code",
   "execution_count": 25,
   "id": "25de682a",
   "metadata": {},
   "outputs": [
    {
     "data": {
      "text/plain": [
       "140527281858224"
      ]
     },
     "execution_count": 25,
     "metadata": {},
     "output_type": "execute_result"
    }
   ],
   "source": [
    "B"
   ]
  },
  {
   "cell_type": "code",
   "execution_count": 27,
   "id": "374bd03e",
   "metadata": {},
   "outputs": [
    {
     "data": {
      "text/plain": [
       "inf"
      ]
     },
     "execution_count": 27,
     "metadata": {},
     "output_type": "execute_result"
    }
   ],
   "source": [
    "float('inf') + 1"
   ]
  },
  {
   "cell_type": "code",
   "execution_count": 29,
   "id": "119a45c9",
   "metadata": {},
   "outputs": [
    {
     "data": {
      "text/plain": [
       "nan"
      ]
     },
     "execution_count": 29,
     "metadata": {},
     "output_type": "execute_result"
    }
   ],
   "source": [
    "float('nan') + 1"
   ]
  },
  {
   "cell_type": "code",
   "execution_count": null,
   "id": "e9bc5209",
   "metadata": {},
   "outputs": [],
   "source": [
    "\n"
   ]
  }
 ],
 "metadata": {
  "kernelspec": {
   "display_name": "Python 3 (ipykernel)",
   "language": "python",
   "name": "python3"
  },
  "language_info": {
   "codemirror_mode": {
    "name": "ipython",
    "version": 3
   },
   "file_extension": ".py",
   "mimetype": "text/x-python",
   "name": "python",
   "nbconvert_exporter": "python",
   "pygments_lexer": "ipython3",
   "version": "3.8.10"
  }
 },
 "nbformat": 4,
 "nbformat_minor": 5
}
