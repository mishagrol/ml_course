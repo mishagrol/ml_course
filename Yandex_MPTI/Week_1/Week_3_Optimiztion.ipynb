{
 "cells": [
  {
   "cell_type": "markdown",
   "metadata": {},
   "source": [
    "## Optimiztion "
   ]
  },
  {
   "cell_type": "code",
   "execution_count": 43,
   "metadata": {},
   "outputs": [
    {
     "data": {
      "text/plain": [
       "0.0"
      ]
     },
     "execution_count": 43,
     "metadata": {},
     "output_type": "execute_result"
    }
   ],
   "source": [
    "np.log10(1)"
   ]
  },
  {
   "cell_type": "code",
   "execution_count": 1,
   "metadata": {},
   "outputs": [],
   "source": [
    "import numpy as np \n",
    "import scipy\n",
    "\n",
    "from scipy.optimize import minimize"
   ]
  },
  {
   "cell_type": "code",
   "execution_count": 19,
   "metadata": {},
   "outputs": [],
   "source": [
    "from sklearn import linear_model"
   ]
  },
  {
   "cell_type": "code",
   "execution_count": 36,
   "metadata": {},
   "outputs": [],
   "source": [
    "SGD_model = linear_model.SGDRegressor(alpha=0, tol=1e-8, max_iter=1e4)\n",
    "lin_model = linear_model.LinearRegression()"
   ]
  },
  {
   "cell_type": "code",
   "execution_count": 37,
   "metadata": {},
   "outputs": [],
   "source": [
    "from sklearn import datasets"
   ]
  },
  {
   "cell_type": "code",
   "execution_count": 38,
   "metadata": {},
   "outputs": [],
   "source": [
    "df = datasets.make_regression(n_samples=100, n_features=2, n_targets=1)"
   ]
  },
  {
   "cell_type": "code",
   "execution_count": 39,
   "metadata": {},
   "outputs": [
    {
     "data": {
      "text/plain": [
       "(array([[ 0.06147844, -0.44732063],\n",
       "        [-2.03915648, -0.56615639],\n",
       "        [-1.56968678,  1.17344844],\n",
       "        [-0.75053653, -0.21474917],\n",
       "        [ 0.6335806 ,  0.38989556],\n",
       "        [-0.66646514,  0.1736676 ],\n",
       "        [ 0.34973808,  0.11181399],\n",
       "        [ 0.16864519, -0.47170607],\n",
       "        [ 0.43238127,  0.50127507],\n",
       "        [ 0.54771321,  0.6085688 ],\n",
       "        [-0.2614788 ,  0.02117797],\n",
       "        [-0.3052414 , -0.81247591],\n",
       "        [ 0.15682791, -0.28256325],\n",
       "        [ 0.21853157,  0.91995642],\n",
       "        [ 0.55206907,  1.33981925],\n",
       "        [ 1.99746806,  0.23000363],\n",
       "        [-0.18624119,  1.26467787],\n",
       "        [ 0.12475151,  0.82123353],\n",
       "        [-0.88411451, -0.23256438],\n",
       "        [ 0.46581662, -1.03405548],\n",
       "        [-0.90708594,  1.38442261],\n",
       "        [-0.80896075, -1.61510199],\n",
       "        [-0.152227  , -3.23622023],\n",
       "        [ 2.22458439,  0.13123347],\n",
       "        [-0.74264903,  1.71733749],\n",
       "        [ 0.70742777, -1.13736043],\n",
       "        [ 0.40068432, -0.59034998],\n",
       "        [-0.64375515, -0.13283366],\n",
       "        [-0.08226243, -1.45250075],\n",
       "        [ 0.80966276,  0.14970211],\n",
       "        [ 0.06119085, -0.0437317 ],\n",
       "        [ 0.18819576,  0.02194859],\n",
       "        [ 0.37296707,  1.51558469],\n",
       "        [-1.09833301, -1.07545159],\n",
       "        [ 0.61225596,  0.21893135],\n",
       "        [ 0.51193805,  0.05522994],\n",
       "        [ 1.49968635,  1.03209875],\n",
       "        [ 1.22972702, -2.30460647],\n",
       "        [-0.2119201 , -0.06888626],\n",
       "        [ 0.42057763, -1.54456896],\n",
       "        [-0.37444086, -0.58719603],\n",
       "        [-0.36433448,  0.0181698 ],\n",
       "        [-0.69623317,  0.26259485],\n",
       "        [-0.57073846,  1.73980034],\n",
       "        [-1.24766577, -0.63637899],\n",
       "        [-0.96946404, -0.36632737],\n",
       "        [ 0.83516884,  1.95024803],\n",
       "        [ 1.92825201, -1.09905807],\n",
       "        [-1.2353938 ,  1.54221525],\n",
       "        [-0.78144084, -1.16533155],\n",
       "        [ 1.35525616, -0.23116836],\n",
       "        [ 0.28804395, -1.02391433],\n",
       "        [ 1.24167562, -0.657046  ],\n",
       "        [-0.33307045, -0.59292412],\n",
       "        [ 2.43383765,  0.76427865],\n",
       "        [ 1.27870418,  1.93684135],\n",
       "        [ 0.20463556, -0.93899857],\n",
       "        [-0.25988562, -0.61013363],\n",
       "        [ 0.91093889, -1.65856316],\n",
       "        [-0.50311965, -0.29192109],\n",
       "        [ 0.06453664,  0.892671  ],\n",
       "        [-0.09699349, -0.37421388],\n",
       "        [ 0.81506274, -0.6345371 ],\n",
       "        [ 0.39492925,  0.66419587],\n",
       "        [-0.39253174, -0.55731337],\n",
       "        [-1.32656101, -1.77284396],\n",
       "        [ 2.03948253,  0.07930078],\n",
       "        [-0.26766624, -0.31730921],\n",
       "        [ 0.71758703, -1.35285505],\n",
       "        [ 0.72399109,  0.6848035 ],\n",
       "        [-0.50734935, -2.08105821],\n",
       "        [-2.38533924,  0.45036355],\n",
       "        [-0.49076681,  0.49881462],\n",
       "        [-1.35340908,  0.76315105],\n",
       "        [-1.96959814, -1.32747809],\n",
       "        [ 1.31583064,  0.58560421],\n",
       "        [ 0.06167651,  0.35998138],\n",
       "        [ 1.7016383 ,  1.0192903 ],\n",
       "        [ 0.76353536,  0.1698341 ],\n",
       "        [-0.78577263,  0.27610473],\n",
       "        [ 0.67677424,  0.16748497],\n",
       "        [ 0.10134028, -1.15811107],\n",
       "        [-0.30468216,  0.8702838 ],\n",
       "        [ 0.16316693,  0.18760616],\n",
       "        [ 1.03656072, -2.57507811],\n",
       "        [ 0.7489941 ,  0.30891673],\n",
       "        [-1.1777394 ,  0.09296905],\n",
       "        [ 0.01837447, -0.61560677],\n",
       "        [ 1.38357889,  0.02937527],\n",
       "        [-0.55772906, -0.93996831],\n",
       "        [-0.6054258 ,  0.99693162],\n",
       "        [-0.13677048, -0.47592317],\n",
       "        [-0.051497  , -0.69596616],\n",
       "        [-0.5431897 , -0.93206543],\n",
       "        [ 0.78899193,  0.09971596],\n",
       "        [-1.13927381,  0.16220064],\n",
       "        [ 0.22522194,  0.26062534],\n",
       "        [-0.44675242,  0.49045956],\n",
       "        [ 0.35204267, -0.76008716],\n",
       "        [ 0.11222361, -0.88797052]]),\n",
       " array([ -38.35963958, -122.27614331,   51.57862118,  -45.58182949,\n",
       "          57.36657074,   -7.48644171,   22.30374301,  -36.83530792,\n",
       "          60.44394486,   74.17495595,   -7.18883452,  -84.19247575,\n",
       "         -20.12174498,   90.90405994,  140.53454005,   90.38880883,\n",
       "         108.01868277,   78.69962705,  -51.84683696,  -77.40144595,\n",
       "          93.75619771, -174.40536575, -298.31094164,   89.35568364,\n",
       "         129.62523096,  -78.34035542,  -39.496373  ,  -34.44636193,\n",
       "        -134.37523657,   41.75156584,   -1.82845381,    8.54137401,\n",
       "         150.21102135, -135.62279381,   41.14470576,   22.82938837,\n",
       "         145.67519373, -165.83388825,  -13.61736852, -125.19916553,\n",
       "         -66.20544133,  -11.04326382,   -0.47161791,  137.64601532,\n",
       "        -101.06956394,  -66.93022074,  205.66243027,  -32.35582127,\n",
       "          96.60914429, -132.72444815,   26.26822895,  -82.6743987 ,\n",
       "         -16.24657986,  -65.28329392,  153.95948703,  219.89521098,\n",
       "         -77.89086478,  -64.29270855, -118.44287569,  -43.95244607,\n",
       "          83.07056914,  -37.25947594,  -29.06589611,   73.89058828,\n",
       "         -64.12988155, -206.71345114,   78.20727855,  -38.05116601,\n",
       "         -97.4975689 ,   87.21637506, -206.08937567,  -42.29598883,\n",
       "          28.07147543,   21.96215259, -188.7842502 ,   98.84630365,\n",
       "          34.74090153,  151.54871804,   41.96788958,   -2.36673957,\n",
       "          38.733641  , -101.32682879,   68.18514671,   22.66845895,\n",
       "        -197.04980362,   54.05410378,  -32.59865753,  -55.09752047,\n",
       "          50.84438882, -104.52889345,   69.17817742,  -47.85357969,\n",
       "         -64.80666574, -103.30701221,   36.50590254,  -24.99077608,\n",
       "          31.44079989,   28.84785488,  -56.55848797,  -76.48910542]))"
      ]
     },
     "execution_count": 39,
     "metadata": {},
     "output_type": "execute_result"
    }
   ],
   "source": [
    "df"
   ]
  },
  {
   "cell_type": "code",
   "execution_count": 40,
   "metadata": {},
   "outputs": [
    {
     "data": {
      "text/plain": [
       "LinearRegression(copy_X=True, fit_intercept=True, n_jobs=None, normalize=False)"
      ]
     },
     "execution_count": 40,
     "metadata": {},
     "output_type": "execute_result"
    }
   ],
   "source": [
    "SGD_model.fit(df[0], df[1])\n",
    "lin_model.fit(df[0], df[1])\n"
   ]
  },
  {
   "cell_type": "code",
   "execution_count": 41,
   "metadata": {},
   "outputs": [
    {
     "data": {
      "text/plain": [
       "array([34.82622157, 90.54046169])"
      ]
     },
     "execution_count": 41,
     "metadata": {},
     "output_type": "execute_result"
    }
   ],
   "source": [
    "SGD_model.coef_"
   ]
  },
  {
   "cell_type": "code",
   "execution_count": 42,
   "metadata": {},
   "outputs": [
    {
     "data": {
      "text/plain": [
       "array([34.82615494, 90.5406431 ])"
      ]
     },
     "execution_count": 42,
     "metadata": {},
     "output_type": "execute_result"
    }
   ],
   "source": [
    "lin_model.coef_"
   ]
  },
  {
   "cell_type": "code",
   "execution_count": 46,
   "metadata": {},
   "outputs": [],
   "source": [
    "def f(x):\n",
    "    return np.sin(x / 5.) * np.exp(x / 10.) + 5. * np.exp(-x / 2.)"
   ]
  },
  {
   "cell_type": "code",
   "execution_count": 4,
   "metadata": {},
   "outputs": [],
   "source": [
    "from scipy import optimize"
   ]
  },
  {
   "cell_type": "markdown",
   "metadata": {},
   "source": [
    "`BFGS` module"
   ]
  },
  {
   "cell_type": "code",
   "execution_count": 42,
   "metadata": {},
   "outputs": [
    {
     "name": "stdout",
     "output_type": "stream",
     "text": [
      "Optimization terminated successfully.\n",
      "         Current function value: 1.745268\n",
      "         Iterations: 6\n",
      "         Function evaluations: 21\n",
      "         Gradient evaluations: 7\n",
      "Optimization terminated successfully.\n",
      "         Current function value: -11.898895\n",
      "         Iterations: 6\n",
      "         Function evaluations: 21\n",
      "         Gradient evaluations: 7\n"
     ]
    }
   ],
   "source": [
    "res_2 = minimize(f, 2, method='BFGS', options={'disp':True})\n",
    "res_30 = minimize(f, 30, method='BFGS', options={'disp':True})"
   ]
  },
  {
   "cell_type": "code",
   "execution_count": 38,
   "metadata": {},
   "outputs": [
    {
     "data": {
      "text/plain": [
       "array([4.13627619])"
      ]
     },
     "execution_count": 38,
     "metadata": {},
     "output_type": "execute_result"
    }
   ],
   "source": [
    "res_2.x"
   ]
  },
  {
   "cell_type": "code",
   "execution_count": 40,
   "metadata": {},
   "outputs": [
    {
     "data": {
      "text/plain": [
       "4.136276187631968"
      ]
     },
     "execution_count": 40,
     "metadata": {},
     "output_type": "execute_result"
    }
   ],
   "source": [
    "float(res_2.x)"
   ]
  },
  {
   "cell_type": "code",
   "execution_count": 65,
   "metadata": {},
   "outputs": [],
   "source": [
    "answers = []\n",
    "answers.append(f(float(res_2.x)))\n",
    "answers.append(f(float(res_30.x)))"
   ]
  },
  {
   "cell_type": "code",
   "execution_count": 62,
   "metadata": {},
   "outputs": [
    {
     "data": {
      "text/plain": [
       "[1.745268290344928, -11.898894665981322]"
      ]
     },
     "execution_count": 62,
     "metadata": {},
     "output_type": "execute_result"
    }
   ],
   "source": [
    "answers"
   ]
  },
  {
   "cell_type": "markdown",
   "metadata": {},
   "source": [
    "## `scipy.optimize.differential_evolution.`"
   ]
  },
  {
   "cell_type": "code",
   "execution_count": 44,
   "metadata": {},
   "outputs": [],
   "source": [
    "from scipy.optimize import differential_evolution"
   ]
  },
  {
   "cell_type": "code",
   "execution_count": 45,
   "metadata": {},
   "outputs": [
    {
     "ename": "NameError",
     "evalue": "name 'f' is not defined",
     "output_type": "error",
     "traceback": [
      "\u001b[0;31m---------------------------------------------------------------------------\u001b[0m",
      "\u001b[0;31mNameError\u001b[0m                                 Traceback (most recent call last)",
      "\u001b[0;32m<ipython-input-45-21c779039798>\u001b[0m in \u001b[0;36m<module>\u001b[0;34m\u001b[0m\n\u001b[1;32m      1\u001b[0m \u001b[0mbounds\u001b[0m \u001b[0;34m=\u001b[0m \u001b[0;34m[\u001b[0m\u001b[0;36m2\u001b[0m\u001b[0;34m,\u001b[0m\u001b[0;36m30\u001b[0m\u001b[0;34m]\u001b[0m\u001b[0;34m,\u001b[0m \u001b[0;34m[\u001b[0m\u001b[0;36m2\u001b[0m\u001b[0;34m,\u001b[0m\u001b[0;36m30\u001b[0m\u001b[0;34m]\u001b[0m\u001b[0;34m\u001b[0m\u001b[0;34m\u001b[0m\u001b[0m\n\u001b[1;32m      2\u001b[0m \u001b[0;34m\u001b[0m\u001b[0m\n\u001b[0;32m----> 3\u001b[0;31m \u001b[0mdif_evol\u001b[0m \u001b[0;34m=\u001b[0m \u001b[0mdifferential_evolution\u001b[0m\u001b[0;34m(\u001b[0m\u001b[0mf\u001b[0m\u001b[0;34m,\u001b[0m \u001b[0;34m[\u001b[0m\u001b[0;34m[\u001b[0m\u001b[0;36m1\u001b[0m\u001b[0;34m,\u001b[0m\u001b[0;36m30\u001b[0m\u001b[0;34m]\u001b[0m\u001b[0;34m]\u001b[0m\u001b[0;34m)\u001b[0m\u001b[0;34m\u001b[0m\u001b[0;34m\u001b[0m\u001b[0m\n\u001b[0m",
      "\u001b[0;31mNameError\u001b[0m: name 'f' is not defined"
     ]
    }
   ],
   "source": [
    "bounds = [2,30], [2,30]\n",
    "\n",
    "dif_evol = differential_evolution(f, [[1,30]])"
   ]
  },
  {
   "cell_type": "code",
   "execution_count": 59,
   "metadata": {},
   "outputs": [
    {
     "data": {
      "text/plain": [
       "array([-11.89889467])"
      ]
     },
     "execution_count": 59,
     "metadata": {},
     "output_type": "execute_result"
    }
   ],
   "source": [
    "f(dif_evol.x)"
   ]
  },
  {
   "cell_type": "code",
   "execution_count": 66,
   "metadata": {},
   "outputs": [],
   "source": [
    "answers.append(float(f(dif_evol.x)))"
   ]
  },
  {
   "cell_type": "code",
   "execution_count": 67,
   "metadata": {},
   "outputs": [
    {
     "data": {
      "text/plain": [
       "[1.745268290344928, -11.898894665981322, -11.898894665981146]"
      ]
     },
     "execution_count": 67,
     "metadata": {},
     "output_type": "execute_result"
    }
   ],
   "source": [
    "answers"
   ]
  },
  {
   "cell_type": "markdown",
   "metadata": {},
   "source": [
    "## Оптимизация негладкой функции "
   ]
  },
  {
   "cell_type": "code",
   "execution_count": 69,
   "metadata": {},
   "outputs": [],
   "source": [
    "#определим ступенчатую функцию\n",
    "def h(x):\n",
    "    return int(f(x))"
   ]
  },
  {
   "cell_type": "code",
   "execution_count": 70,
   "metadata": {},
   "outputs": [
    {
     "name": "stdout",
     "output_type": "stream",
     "text": [
      "Optimization terminated successfully.\n",
      "         Current function value: 2.000000\n",
      "         Iterations: 0\n",
      "         Function evaluations: 3\n",
      "         Gradient evaluations: 1\n",
      "Optimization terminated successfully.\n",
      "         Current function value: -5.000000\n",
      "         Iterations: 0\n",
      "         Function evaluations: 3\n",
      "         Gradient evaluations: 1\n"
     ]
    }
   ],
   "source": [
    "res_h_2 = minimize(h, 2, method='BFGS', options={'disp':True})\n",
    "res_h_30 = minimize(h, 30, method='BFGS', options={'disp':True})"
   ]
  },
  {
   "cell_type": "code",
   "execution_count": 72,
   "metadata": {},
   "outputs": [
    {
     "data": {
      "text/plain": [
       "array([30.])"
      ]
     },
     "execution_count": 72,
     "metadata": {},
     "output_type": "execute_result"
    }
   ],
   "source": [
    "res_h_30.x"
   ]
  },
  {
   "cell_type": "code",
   "execution_count": 73,
   "metadata": {},
   "outputs": [
    {
     "data": {
      "text/plain": [
       "-5"
      ]
     },
     "execution_count": 73,
     "metadata": {},
     "output_type": "execute_result"
    }
   ],
   "source": [
    "h(30)"
   ]
  },
  {
   "cell_type": "code",
   "execution_count": 74,
   "metadata": {},
   "outputs": [],
   "source": [
    "answers.append(h(30))"
   ]
  },
  {
   "cell_type": "code",
   "execution_count": 75,
   "metadata": {},
   "outputs": [
    {
     "data": {
      "text/plain": [
       "[1.745268290344928, -11.898894665981322, -11.898894665981146, -5]"
      ]
     },
     "execution_count": 75,
     "metadata": {},
     "output_type": "execute_result"
    }
   ],
   "source": [
    "answers"
   ]
  },
  {
   "cell_type": "code",
   "execution_count": 78,
   "metadata": {},
   "outputs": [
    {
     "name": "stdout",
     "output_type": "stream",
     "text": [
      "[26.96392747]\n"
     ]
    }
   ],
   "source": [
    "dif_evol = differential_evolution(h, [[1,30]])\n",
    "print(dif_evol.x)\n",
    "\n",
    "answers.append(h(dif_evol.x))"
   ]
  },
  {
   "cell_type": "code",
   "execution_count": 79,
   "metadata": {},
   "outputs": [
    {
     "data": {
      "text/plain": [
       "[1.745268290344928, -11.898894665981322, -11.898894665981146, -5, -11]"
      ]
     },
     "execution_count": 79,
     "metadata": {},
     "output_type": "execute_result"
    }
   ],
   "source": [
    "answers"
   ]
  },
  {
   "cell_type": "code",
   "execution_count": 90,
   "metadata": {},
   "outputs": [],
   "source": [
    "tf = open('optimiztion_w3_1.txt', 'w')\n",
    "for x in answers[:2]:\n",
    "   tf.write(str(x)+' ')\n",
    "tf.close()\n",
    "\n",
    "#tf = open('optimiztion_w3_2.txt', 'w')\n",
    "#for x in answers[2]:\n",
    "#   tf.write(str(x)+' ')\n",
    "#tf.close()\n",
    "\n",
    "tf = open('optimiztion_w3_3.txt', 'w')\n",
    "for x in answers[3:]:\n",
    "   tf.write(str(x)+' ')\n",
    "tf.close()"
   ]
  },
  {
   "cell_type": "code",
   "execution_count": 88,
   "metadata": {},
   "outputs": [
    {
     "data": {
      "text/plain": [
       "-11.898894665981146"
      ]
     },
     "execution_count": 88,
     "metadata": {},
     "output_type": "execute_result"
    }
   ],
   "source": [
    "answers[2]"
   ]
  },
  {
   "cell_type": "code",
   "execution_count": 91,
   "metadata": {},
   "outputs": [],
   "source": [
    "!echo \"-11.898894665981146\" > optimiztion_w3_2.txt\n"
   ]
  },
  {
   "cell_type": "code",
   "execution_count": 94,
   "metadata": {},
   "outputs": [
    {
     "name": "stdout",
     "output_type": "stream",
     "text": [
      "-5 -11 "
     ]
    }
   ],
   "source": [
    "!cat optimiztion_w3_3.txt"
   ]
  },
  {
   "cell_type": "markdown",
   "metadata": {},
   "source": [
    "## Rosenbrock function"
   ]
  },
  {
   "cell_type": "code",
   "execution_count": null,
   "metadata": {},
   "outputs": [],
   "source": []
  },
  {
   "cell_type": "code",
   "execution_count": 13,
   "metadata": {},
   "outputs": [],
   "source": [
    "import numpy as np\n",
    "\n",
    "def rosen(x):\n",
    "    \"\"\"The Rosenbrock function\"\"\"\n",
    "    return np.sum(100.0*(x[1:]-x[:-1]**2.0)**2.0 + (1-x[:-1])**2.0, axis=0)"
   ]
  },
  {
   "cell_type": "code",
   "execution_count": 18,
   "metadata": {},
   "outputs": [
    {
     "data": {
      "text/plain": [
       "848.22"
      ]
     },
     "execution_count": 18,
     "metadata": {},
     "output_type": "execute_result"
    }
   ],
   "source": [
    "rosen(x0)"
   ]
  },
  {
   "cell_type": "code",
   "execution_count": 14,
   "metadata": {},
   "outputs": [
    {
     "name": "stdout",
     "output_type": "stream",
     "text": [
      "Optimization terminated successfully.\n",
      "         Current function value: 0.000000\n",
      "         Iterations: 339\n",
      "         Function evaluations: 571\n",
      "[1. 1. 1. 1. 1.]\n"
     ]
    }
   ],
   "source": [
    "from scipy.optimize import minimize\n",
    "x0 = np.array([1.3, 0.7, 0.8, 1.9, 1.2])\n",
    "res = minimize(rosen, x0, method='nelder-mead',\n",
    "    options={'xtol': 1e-8, 'disp': True})\n",
    "print(res.x)"
   ]
  },
  {
   "cell_type": "code",
   "execution_count": 107,
   "metadata": {},
   "outputs": [],
   "source": [
    "a = np.array([8, 10, -1, 0, 0])"
   ]
  },
  {
   "cell_type": "code",
   "execution_count": 108,
   "metadata": {},
   "outputs": [
    {
     "data": {
      "text/plain": [
       "(5,)"
      ]
     },
     "execution_count": 108,
     "metadata": {},
     "output_type": "execute_result"
    }
   ],
   "source": [
    "a.shape"
   ]
  },
  {
   "cell_type": "code",
   "execution_count": 97,
   "metadata": {},
   "outputs": [
    {
     "data": {
      "text/plain": [
       "(5, 1)"
      ]
     },
     "execution_count": 97,
     "metadata": {},
     "output_type": "execute_result"
    }
   ],
   "source": [
    "a.reshape(5,1).shape"
   ]
  },
  {
   "cell_type": "code",
   "execution_count": 109,
   "metadata": {},
   "outputs": [],
   "source": [
    "a = a[:, np.newaxis]"
   ]
  },
  {
   "cell_type": "code",
   "execution_count": 110,
   "metadata": {},
   "outputs": [
    {
     "data": {
      "text/plain": [
       "(5, 1)"
      ]
     },
     "execution_count": 110,
     "metadata": {},
     "output_type": "execute_result"
    }
   ],
   "source": [
    "a.shape"
   ]
  },
  {
   "cell_type": "markdown",
   "metadata": {},
   "source": [
    "SVD"
   ]
  },
  {
   "cell_type": "code",
   "execution_count": 113,
   "metadata": {},
   "outputs": [],
   "source": [
    "np.set_printoptions(precision=2, suppress=True)"
   ]
  },
  {
   "cell_type": "code",
   "execution_count": 114,
   "metadata": {},
   "outputs": [],
   "source": [
    "X = np.array([[1,2,0],\n",
    "              [0,0,5],\n",
    "              [3,-4,2],\n",
    "              [1,6,5],\n",
    "              [0,1,0]])"
   ]
  },
  {
   "cell_type": "code",
   "execution_count": 115,
   "metadata": {},
   "outputs": [
    {
     "data": {
      "text/plain": [
       "(array([[ 0.17,  0.16, -0.53, -0.8 , -0.16],\n",
       "        [ 0.39, -0.53,  0.61, -0.43,  0.03],\n",
       "        [-0.14, -0.82, -0.52,  0.14,  0.07],\n",
       "        [ 0.89,  0.06, -0.25,  0.38, -0.06],\n",
       "        [ 0.08,  0.11, -0.08, -0.11,  0.98]]),\n",
       " array([8.82, 6.14, 2.53]),\n",
       " array([[ 0.07,  0.72,  0.69],\n",
       "        [-0.37,  0.67, -0.65],\n",
       "        [-0.93, -0.21,  0.31]]))"
      ]
     },
     "execution_count": 115,
     "metadata": {},
     "output_type": "execute_result"
    }
   ],
   "source": [
    "np.linalg.svd(X)"
   ]
  },
  {
   "cell_type": "code",
   "execution_count": 116,
   "metadata": {},
   "outputs": [],
   "source": [
    "U, s, W = np.linalg.svd(X)"
   ]
  },
  {
   "cell_type": "code",
   "execution_count": 118,
   "metadata": {},
   "outputs": [
    {
     "data": {
      "text/plain": [
       "array([[ 0.17,  0.39, -0.14,  0.89,  0.08],\n",
       "       [ 0.16, -0.53, -0.82,  0.06,  0.11],\n",
       "       [-0.53,  0.61, -0.52, -0.25, -0.08],\n",
       "       [-0.8 , -0.43,  0.14,  0.38, -0.11],\n",
       "       [-0.16,  0.03,  0.07, -0.06,  0.98]])"
      ]
     },
     "execution_count": 118,
     "metadata": {},
     "output_type": "execute_result"
    }
   ],
   "source": [
    "U.T"
   ]
  },
  {
   "cell_type": "code",
   "execution_count": 121,
   "metadata": {},
   "outputs": [],
   "source": [
    "D = np.zeros_like(X)"
   ]
  },
  {
   "cell_type": "code",
   "execution_count": 127,
   "metadata": {},
   "outputs": [],
   "source": [
    "d = D[np.diag_indices(min(X.shape))]"
   ]
  },
  {
   "cell_type": "code",
   "execution_count": 128,
   "metadata": {},
   "outputs": [
    {
     "data": {
      "text/plain": [
       "array([0, 0, 0])"
      ]
     },
     "execution_count": 128,
     "metadata": {},
     "output_type": "execute_result"
    }
   ],
   "source": [
    "d"
   ]
  },
  {
   "cell_type": "code",
   "execution_count": null,
   "metadata": {},
   "outputs": [],
   "source": []
  }
 ],
 "metadata": {
  "kernelspec": {
   "display_name": "Python 3",
   "language": "python",
   "name": "python3"
  },
  "language_info": {
   "codemirror_mode": {
    "name": "ipython",
    "version": 3
   },
   "file_extension": ".py",
   "mimetype": "text/x-python",
   "name": "python",
   "nbconvert_exporter": "python",
   "pygments_lexer": "ipython3",
   "version": "3.7.4"
  }
 },
 "nbformat": 4,
 "nbformat_minor": 4
}
