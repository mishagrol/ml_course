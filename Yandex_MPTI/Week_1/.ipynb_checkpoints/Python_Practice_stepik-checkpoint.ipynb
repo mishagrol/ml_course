{
 "cells": [
  {
   "cell_type": "markdown",
   "metadata": {},
   "source": [
    "# Практикум по математике и Python\n",
    "## Stepik <img src=\"logo.png\" style=\"height:150px\" align='right'>\n",
    "\n",
    "\n",
    "Практикум по Математике и Python с наборами дополнительных задач и <br> материалов для углублённого и более детального изучения. \n",
    "\n",
    "Рекомендуется для изучения лицам, впервые столкнувшимся с python в рамках курса и испытывающим <br> трудности с решением задач по программированию. \n",
    "\n",
    "Практикум находится на стадии разработки.\n"
   ]
  },
  {
   "cell_type": "markdown",
   "metadata": {},
   "source": [
    "Тест на знание `Python`"
   ]
  },
  {
   "cell_type": "code",
   "execution_count": 36,
   "metadata": {},
   "outputs": [],
   "source": [
    "L = [1,4,67,4,2,65,66,67]"
   ]
  },
  {
   "cell_type": "code",
   "execution_count": 16,
   "metadata": {},
   "outputs": [],
   "source": [
    "floats = L.split()"
   ]
  },
  {
   "cell_type": "code",
   "execution_count": 37,
   "metadata": {},
   "outputs": [],
   "source": [
    "def finder(L):\n",
    "    index = []\n",
    "    counter = 0\n",
    "    for number in L:\n",
    "        first_index = L.index(number)\n",
    "        second_index = first_index+1\n",
    "        result = L[second_index] - L[first_index]\n",
    "        if result == 1:\n",
    "            return first_index\n",
    "        else: \n",
    "            continue\n"
   ]
  },
  {
   "cell_type": "code",
   "execution_count": 38,
   "metadata": {},
   "outputs": [
    {
     "data": {
      "text/plain": [
       "5"
      ]
     },
     "execution_count": 38,
     "metadata": {},
     "output_type": "execute_result"
    }
   ],
   "source": [
    "finder(L)"
   ]
  },
  {
   "cell_type": "code",
   "execution_count": 46,
   "metadata": {},
   "outputs": [],
   "source": [
    "local_out = set()"
   ]
  },
  {
   "cell_type": "code",
   "execution_count": 51,
   "metadata": {},
   "outputs": [],
   "source": [
    "local_out.add('sr')"
   ]
  },
  {
   "cell_type": "code",
   "execution_count": 54,
   "metadata": {},
   "outputs": [
    {
     "data": {
      "text/plain": [
       "2"
      ]
     },
     "execution_count": 54,
     "metadata": {},
     "output_type": "execute_result"
    }
   ],
   "source": [
    "len(local_out)"
   ]
  },
  {
   "cell_type": "code",
   "execution_count": 45,
   "metadata": {},
   "outputs": [
    {
     "data": {
      "text/plain": [
       "'s'"
      ]
     },
     "execution_count": 45,
     "metadata": {},
     "output_type": "execute_result"
    }
   ],
   "source": [
    "ex_str = 'sasfdasf'\n",
    "ex_str.split(maxsplit=-1)\n",
    "ex_str[0]"
   ]
  },
  {
   "cell_type": "code",
   "execution_count": 108,
   "metadata": {},
   "outputs": [],
   "source": [
    "\n",
    "\n",
    "\n",
    "list_str = ('Aa', 'ABBA', 'ab', 'AaAa', 'AaAaAa')\n",
    "\n",
    "\n",
    "def counter(T):\n",
    "    #number_of_unq = []\n",
    "    #list_of_elements = []\n",
    "    max_lenght = 0\n",
    "    max_number_of_unq = 0\n",
    "    for element in T:\n",
    "        local_out = set()\n",
    "        for i in element.lower():\n",
    "            local_out.add(i)\n",
    "        #print(len(local_out))\n",
    "        #print(len(element))\n",
    "        print(len(local_out))\n",
    "\n",
    "\n",
    "        if (len(element) > max_lenght) and (len(local_out) > max_number_of_unq):\n",
    "            max_lenght = len(element)\n",
    "            max_number_of_unq = len(local_out)\n",
    "        else: \n",
    "            continue\n",
    "\n",
    "\n",
    "        #break\n",
    "        list_of_elements.append(len(element))\n",
    "        number_of_unq.append(len(local_out))"
   ]
  },
  {
   "cell_type": "code",
   "execution_count": 106,
   "metadata": {},
   "outputs": [
    {
     "data": {
      "text/plain": [
       "4"
      ]
     },
     "execution_count": 106,
     "metadata": {},
     "output_type": "execute_result"
    }
   ],
   "source": [
    "max_lenght"
   ]
  },
  {
   "cell_type": "code",
   "execution_count": 107,
   "metadata": {},
   "outputs": [
    {
     "data": {
      "text/plain": [
       "2"
      ]
     },
     "execution_count": 107,
     "metadata": {},
     "output_type": "execute_result"
    }
   ],
   "source": [
    "max_number_of_unq"
   ]
  },
  {
   "cell_type": "code",
   "execution_count": 94,
   "metadata": {},
   "outputs": [
    {
     "data": {
      "text/plain": [
       "[2, 4, 2, 4, 6]"
      ]
     },
     "execution_count": 94,
     "metadata": {},
     "output_type": "execute_result"
    }
   ],
   "source": [
    "list_of_elements"
   ]
  },
  {
   "cell_type": "code",
   "execution_count": 95,
   "metadata": {},
   "outputs": [
    {
     "data": {
      "text/plain": [
       "[1, 2, 2, 1, 1]"
      ]
     },
     "execution_count": 95,
     "metadata": {},
     "output_type": "execute_result"
    }
   ],
   "source": [
    "number_of_unq"
   ]
  },
  {
   "cell_type": "code",
   "execution_count": 96,
   "metadata": {},
   "outputs": [],
   "source": [
    "dict_of_results = dict(zip(list_of_elements, list_of_lenght))"
   ]
  },
  {
   "cell_type": "code",
   "execution_count": 97,
   "metadata": {},
   "outputs": [
    {
     "data": {
      "text/plain": [
       "{2: 2, 4: 2, 6: 2}"
      ]
     },
     "execution_count": 97,
     "metadata": {},
     "output_type": "execute_result"
    }
   ],
   "source": [
    "dict_of_results"
   ]
  },
  {
   "cell_type": "code",
   "execution_count": null,
   "metadata": {},
   "outputs": [],
   "source": []
  }
 ],
 "metadata": {
  "kernelspec": {
   "display_name": "Python 3",
   "language": "python",
   "name": "python3"
  },
  "language_info": {
   "codemirror_mode": {
    "name": "ipython",
    "version": 3
   },
   "file_extension": ".py",
   "mimetype": "text/x-python",
   "name": "python",
   "nbconvert_exporter": "python",
   "pygments_lexer": "ipython3",
   "version": "3.7.4"
  }
 },
 "nbformat": 4,
 "nbformat_minor": 4
}
