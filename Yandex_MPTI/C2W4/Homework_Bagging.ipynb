{
 "cells": [
  {
   "cell_type": "markdown",
   "metadata": {},
   "source": [
    "### C3W4\n",
    "Домашка номер один"
   ]
  },
  {
   "cell_type": "code",
   "execution_count": 1,
   "metadata": {},
   "outputs": [],
   "source": [
    "import numpy as np \n",
    "import pandas as pd \n",
    "import matplotlib.pyplot as plt\n",
    "\n",
    "from sklearn import ensemble, metrics, model_selection, tree, datasets\n",
    "\n",
    "%matplotlib inline"
   ]
  },
  {
   "cell_type": "code",
   "execution_count": 2,
   "metadata": {},
   "outputs": [],
   "source": [
    "import matplotlib.pyplot as plt\n",
    "%matplotlib inline"
   ]
  },
  {
   "cell_type": "code",
   "execution_count": 3,
   "metadata": {},
   "outputs": [],
   "source": [
    "digits_df = datasets.load_digits()\n",
    "X = digits_df.data\n",
    "y = digits_df.target"
   ]
  },
  {
   "cell_type": "markdown",
   "metadata": {},
   "source": [
    "### Определим функцию которая на вход принимает классификатор, данные и значение для k-fold кросс-валидации"
   ]
  },
  {
   "cell_type": "code",
   "execution_count": 4,
   "metadata": {},
   "outputs": [],
   "source": [
    "def experiment(classifier, X, y, k):\n",
    "    \"\"\"classifier - tree or ensemble\n",
    "    X - data \n",
    "    y - targets\n",
    "    k - value for cross validation\"\"\"\n",
    "    result = model_selection.cross_val_score(classifier, X , y, cv=k)\n",
    "    return result.mean()"
   ]
  },
  {
   "cell_type": "code",
   "execution_count": 5,
   "metadata": {},
   "outputs": [
    {
     "data": {
      "text/plain": [
       "0.825788330229671"
      ]
     },
     "execution_count": 5,
     "metadata": {},
     "output_type": "execute_result"
    }
   ],
   "source": [
    "deccision_tree = tree.DecisionTreeClassifier()\n",
    "experiment(deccision_tree, X, y, 10)"
   ]
  },
  {
   "cell_type": "code",
   "execution_count": 6,
   "metadata": {},
   "outputs": [
    {
     "name": "stdout",
     "output_type": "stream",
     "text": [
      "0.824465859714463\n"
     ]
    }
   ],
   "source": [
    "\n",
    "d=0\n",
    "answers = np.zeros([1,10])\n",
    "while d < 10:\n",
    "    answers[:,d]=experiment(deccision_tree, X, y, 10)\n",
    "    d+=1\n",
    "print(answers.mean())"
   ]
  },
  {
   "cell_type": "code",
   "execution_count": 7,
   "metadata": {},
   "outputs": [],
   "source": [
    "def write_answer_1(answer):\n",
    "    with open(\"C3W4_answer1.txt\", \"w\") as fout:\n",
    "        fout.write(str(answer))\n",
    "write_answer_1(answers.mean())"
   ]
  },
  {
   "cell_type": "markdown",
   "metadata": {},
   "source": [
    "### Bagging classifier "
   ]
  },
  {
   "cell_type": "code",
   "execution_count": 9,
   "metadata": {},
   "outputs": [
    {
     "name": "stdout",
     "output_type": "stream",
     "text": [
      "CPU times: user 736 ms, sys: 159 ms, total: 895 ms\n",
      "Wall time: 9.56 s\n"
     ]
    },
    {
     "data": {
      "text/plain": [
       "0.924292364990689"
      ]
     },
     "execution_count": 9,
     "metadata": {},
     "output_type": "execute_result"
    }
   ],
   "source": [
    "%%time\n",
    "classifier = ensemble.BaggingClassifier(n_estimators=100, n_jobs=-1)\n",
    "experiment(classifier, X, y, k=10)"
   ]
  },
  {
   "cell_type": "code",
   "execution_count": 10,
   "metadata": {},
   "outputs": [
    {
     "name": "stdout",
     "output_type": "stream",
     "text": [
      "CPU times: user 13 s, sys: 82.1 ms, total: 13.1 s\n",
      "Wall time: 13.2 s\n"
     ]
    },
    {
     "data": {
      "text/plain": [
       "0.9231781502172562"
      ]
     },
     "execution_count": 10,
     "metadata": {},
     "output_type": "execute_result"
    }
   ],
   "source": [
    "%%time\n",
    "classifier = ensemble.BaggingClassifier(n_estimators=100, n_jobs=1)\n",
    "experiment(classifier, X, y, k=10)"
   ]
  },
  {
   "cell_type": "code",
   "execution_count": 84,
   "metadata": {},
   "outputs": [
    {
     "name": "stdout",
     "output_type": "stream",
     "text": [
      "0.9246691495965239\n",
      "CPU times: user 7.16 s, sys: 1.03 s, total: 8.2 s\n",
      "Wall time: 1min 13s\n"
     ]
    }
   ],
   "source": [
    "%%time\n",
    "bag = ensemble.BaggingClassifier(n_estimators=100, n_jobs=-1)\n",
    "d=0\n",
    "answers = np.zeros([1,10])\n",
    "while d < 10:\n",
    "    answers[:,d]=experiment(bag, X, y, 10)\n",
    "    d+=1\n",
    "print(answers.mean())\n",
    "\n",
    "def write_answer_2(answer):\n",
    "    with open(\"C3W4_answer2.txt\", \"w\") as fout:\n",
    "        fout.write(str(answer))\n",
    "write_answer_2(answers.mean())"
   ]
  },
  {
   "cell_type": "markdown",
   "metadata": {},
   "source": [
    "### Bagging based on $\\sqrt{d}$ features of data"
   ]
  },
  {
   "cell_type": "code",
   "execution_count": 18,
   "metadata": {},
   "outputs": [
    {
     "data": {
      "text/plain": [
       "BaggingClassifier(base_estimator=None, bootstrap=True, bootstrap_features=False,\n",
       "                  max_features=0.125, max_samples=1.0, n_estimators=10,\n",
       "                  n_jobs=None, oob_score=False, random_state=None, verbose=0,\n",
       "                  warm_start=False)"
      ]
     },
     "execution_count": 18,
     "metadata": {},
     "output_type": "execute_result"
    }
   ],
   "source": [
    "ensemble.BaggingClassifier(max_features=1/8)"
   ]
  },
  {
   "cell_type": "markdown",
   "metadata": {},
   "source": [
    "> ### Bagging classifier has parameter `max_features`, which allows to select part of all fetures in dataset"
   ]
  },
  {
   "cell_type": "code",
   "execution_count": 19,
   "metadata": {},
   "outputs": [
    {
     "name": "stdout",
     "output_type": "stream",
     "text": [
      "0.9311613904407199\n",
      "CPU times: user 9.77 s, sys: 5.33 s, total: 15.1 s\n",
      "Wall time: 37.4 s\n"
     ]
    }
   ],
   "source": [
    "%%time\n",
    "classifier = ensemble.BaggingClassifier(n_estimators=100, max_features=1/8, n_jobs=-1)\n",
    "d=0\n",
    "answers = np.zeros([1,10])\n",
    "while d < 10:\n",
    "    answers[:,d]=experiment(classifier, X, y, 10)\n",
    "    d+=1\n",
    "print(answers.mean())\n",
    "\n",
    "def write_answer_3(answer):\n",
    "    with open(\"C3W4_answer3.txt\", \"w\") as fout:\n",
    "        fout.write(str(answer))\n",
    "write_answer_3(answers.mean())"
   ]
  },
  {
   "cell_type": "markdown",
   "metadata": {},
   "source": [
    "## Bagging with random $\\sqrt{d}$ features for each decission tree"
   ]
  },
  {
   "cell_type": "code",
   "execution_count": 21,
   "metadata": {},
   "outputs": [],
   "source": [
    "classifier = tree.DecisionTreeClassifier(max_features='sqrt')"
   ]
  },
  {
   "cell_type": "code",
   "execution_count": 22,
   "metadata": {},
   "outputs": [
    {
     "name": "stdout",
     "output_type": "stream",
     "text": [
      "0.9481831160769708\n",
      "CPU times: user 8.07 s, sys: 1.83 s, total: 9.9 s\n",
      "Wall time: 36.1 s\n"
     ]
    }
   ],
   "source": [
    "%%time\n",
    "classifier = ensemble.BaggingClassifier(base_estimator=classifier, n_estimators=100, n_jobs=-1)\n",
    "d=0\n",
    "answers = np.zeros([1,10])\n",
    "while d < 10:\n",
    "    answers[:,d]=experiment(classifier, X, y, 10)\n",
    "    d+=1\n",
    "print(answers.mean())\n",
    "\n",
    "def write_answer_4(answer):\n",
    "    with open(\"C3W4_answer4.txt\", \"w\") as fout:\n",
    "        fout.write(str(answer))\n",
    "write_answer_4(answers.mean())"
   ]
  },
  {
   "cell_type": "markdown",
   "metadata": {},
   "source": [
    "## Compare Bagging with random features selection for each Decission Tree and Ranfom Forest classifier"
   ]
  },
  {
   "cell_type": "code",
   "execution_count": 25,
   "metadata": {},
   "outputs": [],
   "source": [
    "rf = ensemble.RandomForestClassifier()"
   ]
  },
  {
   "cell_type": "code",
   "execution_count": 30,
   "metadata": {},
   "outputs": [
    {
     "name": "stdout",
     "output_type": "stream",
     "text": [
      "[[0.94268156 0.         0.         0.         0.         0.\n",
      "  0.         0.         0.         0.        ]]\n",
      "[[0.94268156 0.94935444 0.         0.         0.         0.\n",
      "  0.         0.         0.         0.        ]]\n",
      "[[0.94268156 0.94935444 0.94710739 0.         0.         0.\n",
      "  0.         0.         0.         0.        ]]\n",
      "[[0.94268156 0.94935444 0.94710739 0.95213222 0.         0.\n",
      "  0.         0.         0.         0.        ]]\n",
      "[[0.94268156 0.94935444 0.94710739 0.95213222 0.9499131  0.\n",
      "  0.         0.         0.         0.        ]]\n",
      "[[0.94268156 0.94935444 0.94710739 0.95213222 0.9499131  0.9510149\n",
      "  0.         0.         0.         0.        ]]\n",
      "[[0.94268156 0.94935444 0.94710739 0.95213222 0.9499131  0.9510149\n",
      "  0.95157976 0.         0.         0.        ]]\n",
      "[[0.94268156 0.94935444 0.94710739 0.95213222 0.9499131  0.9510149\n",
      "  0.95157976 0.94657045 0.         0.        ]]\n",
      "[[0.94268156 0.94935444 0.94710739 0.95213222 0.9499131  0.9510149\n",
      "  0.95157976 0.94657045 0.94657045 0.        ]]\n",
      "[[0.94268156 0.94935444 0.94710739 0.95213222 0.9499131  0.9510149\n",
      "  0.95157976 0.94657045 0.94657045 0.95325574]]\n",
      "0.9490180012414647\n",
      "CPU times: user 19.9 s, sys: 2.15 s, total: 22 s\n",
      "Wall time: 40 s\n"
     ]
    }
   ],
   "source": [
    "%%time\n",
    "classifier = ensemble.RandomForestClassifier(n_estimators=100, n_jobs=-1)\n",
    "d=0\n",
    "answers = np.zeros([1,10])\n",
    "while d < 10:\n",
    "    answers[:,d]=experiment(classifier, X, y, 10)\n",
    "    d+=1\n",
    "print(answers.mean())"
   ]
  },
  {
   "cell_type": "markdown",
   "metadata": {},
   "source": [
    "## Task 5. Parameters of Random Forest"
   ]
  },
  {
   "cell_type": "code",
   "execution_count": 87,
   "metadata": {},
   "outputs": [],
   "source": [
    "!echo \"2 3 4 7\" > C2W4_answer_5.txt"
   ]
  },
  {
   "cell_type": "markdown",
   "metadata": {},
   "source": [
    "> answers: 2 3 4 6"
   ]
  },
  {
   "cell_type": "code",
   "execution_count": 34,
   "metadata": {},
   "outputs": [],
   "source": [
    "number_of_trees = np.arange(5,100,5)\n",
    "answers = np.zeros([1,len(number_of_trees)])"
   ]
  },
  {
   "cell_type": "code",
   "execution_count": null,
   "metadata": {},
   "outputs": [],
   "source": []
  },
  {
   "cell_type": "code",
   "execution_count": 73,
   "metadata": {},
   "outputs": [
    {
     "data": {
      "text/plain": [
       "Text(0.5, 0, 'number of fetures')"
      ]
     },
     "execution_count": 73,
     "metadata": {},
     "output_type": "execute_result"
    },
    {
     "data": {
      "image/png": "[encoded data removed]",
      "text/plain": [
       "<Figure size 576x432 with 1 Axes>"
      ]
     },
     "metadata": {
      "needs_background": "light"
     },
     "output_type": "display_data"
    },
    {
     "data": {
      "image/png": "[encoded data removed]",
      "text/plain": [
       "<Figure size 576x432 with 1 Axes>"
      ]
     },
     "metadata": {
      "needs_background": "light"
     },
     "output_type": "display_data"
    }
   ],
   "source": [
    "# depth of trees and accuracy\n",
    "number_of_features = np.arange(4,12,1)\n",
    "answers = np.zeros([1,len(number_of_features)])\n",
    "\n",
    "for num, val in enumerate(number_of_features):\n",
    "    clf = ensemble.RandomForestClassifier(max_depth=val)\n",
    "    answers[:,num] = np.mean(model_selection.cross_val_score(clf, X, y, cv=10))\n",
    "    \n",
    "    \n",
    "plt.figure(figsize=(8,6))\n",
    "plt.scatter(number_of_features, y = answers)\n",
    "\n",
    "\n",
    "\n",
    "\n",
    "plt.figure(figsize=(8,6))\n",
    "plt.plot(answers[0])\n",
    "plt.ylabel('cross val score')\n",
    "plt.xlabel('number of fetures')"
   ]
  },
  {
   "cell_type": "code",
   "execution_count": 71,
   "metadata": {},
   "outputs": [
    {
     "data": {
      "text/plain": [
       "Text(0.5, 0, 'number of trees')"
      ]
     },
     "execution_count": 71,
     "metadata": {},
     "output_type": "execute_result"
    },
    {
     "data": {
      "image/png": "[encoded data removed]",
      "text/plain": [
       "<Figure size 576x432 with 1 Axes>"
      ]
     },
     "metadata": {
      "needs_background": "light"
     },
     "output_type": "display_data"
    },
    {
     "data": {
      "image/png": "[encoded data removed]",
      "text/plain": [
       "<Figure size 576x432 with 1 Axes>"
      ]
     },
     "metadata": {
      "needs_background": "light"
     },
     "output_type": "display_data"
    }
   ],
   "source": [
    "# Number of featured\n",
    "number_of_features = np.arange(0.1,1.,0.2)\n",
    "answers = np.zeros([1,len(number_of_features)])\n",
    "\n",
    "for num, val in enumerate(number_of_features):\n",
    "    clf = ensemble.RandomForestClassifier(max_features=val)\n",
    "    answers[:,num] = np.mean(model_selection.cross_val_score(clf, X, y, cv=10))\n",
    "    \n",
    "    \n",
    "plt.figure(figsize=(8,6))\n",
    "plt.scatter(number_of_features, y = answers)\n",
    "\n",
    "\n",
    "\n",
    "\n",
    "plt.figure(figsize=(8,6))\n",
    "plt.plot(answers[0])\n",
    "plt.ylabel('cross val score')\n",
    "plt.xlabel('number of fetures')"
   ]
  },
  {
   "cell_type": "code",
   "execution_count": 46,
   "metadata": {},
   "outputs": [
    {
     "data": {
      "text/plain": [
       "<matplotlib.collections.PathCollection at 0x7fdf4099c5d0>"
      ]
     },
     "execution_count": 46,
     "metadata": {},
     "output_type": "execute_result"
    },
    {
     "data": {
      "image/png": "[encoded data removed]",
      "text/plain": [
       "<Figure size 576x432 with 1 Axes>"
      ]
     },
     "metadata": {
      "needs_background": "light"
     },
     "output_type": "display_data"
    }
   ],
   "source": [
    "# Number of trees and accuracy\n",
    "number_of_trees = np.arange(5,100,5)\n",
    "answers = np.zeros([1,len(number_of_trees)])\n",
    "\n",
    "for num, val in enumerate(number_of_trees):\n",
    "    clf = ensemble.RandomForestClassifier(n_estimators=val)\n",
    "    answers[:,num] = np.mean(model_selection.cross_val_score(clf, X, y, cv=10))\n",
    "    \n",
    "    \n",
    "plt.figure(figsize=(8,6))\n",
    "plt.scatter(number_of_trees, y = answers)"
   ]
  },
  {
   "cell_type": "code",
   "execution_count": 51,
   "metadata": {},
   "outputs": [],
   "source": [
    "clf = ensemble.RandomForestClassifier(n_estimators=20)\n",
    "train_sizes, train_scores, test_scores = model_selection.learning_curve\\\n",
    "                                            (clf, X, y, cv=3, scoring='accuracy')"
   ]
  },
  {
   "cell_type": "code",
   "execution_count": 52,
   "metadata": {},
   "outputs": [
    {
     "data": {
      "text/plain": [
       "<matplotlib.legend.Legend at 0x7fdf3ffb8750>"
      ]
     },
     "execution_count": 52,
     "metadata": {},
     "output_type": "execute_result"
    },
    {
     "data": {
      "image/png": "[encoded data removed]",
      "text/plain": [
       "<Figure size 432x288 with 1 Axes>"
      ]
     },
     "metadata": {
      "needs_background": "light"
     },
     "output_type": "display_data"
    }
   ],
   "source": [
    "plt.grid(True)\n",
    "plt.plot(train_sizes, train_scores.mean(axis = 1), 'g-', marker='o', label='train')\n",
    "plt.plot(train_sizes, test_scores.mean(axis = 1), 'r-', marker='o', label='test')\n",
    "plt.ylim((0.0, 1.05))\n",
    "plt.legend(loc='lower right')"
   ]
  },
  {
   "cell_type": "markdown",
   "metadata": {},
   "source": []
  }
 ],
 "metadata": {
  "kernelspec": {
   "display_name": "Python 3",
   "language": "python",
   "name": "python3"
  },
  "language_info": {
   "codemirror_mode": {
    "name": "ipython",
    "version": 3
   },
   "file_extension": ".py",
   "mimetype": "text/x-python",
   "name": "python",
   "nbconvert_exporter": "python",
   "pygments_lexer": "ipython3",
   "version": "3.7.4"
  }
 },
 "nbformat": 4,
 "nbformat_minor": 4
}
