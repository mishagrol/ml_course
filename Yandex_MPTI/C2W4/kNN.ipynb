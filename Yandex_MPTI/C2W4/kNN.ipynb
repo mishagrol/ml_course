{
 "cells": [
  {
   "cell_type": "markdown",
   "metadata": {},
   "source": [
    "# kNN vs. RandomForest"
   ]
  },
  {
   "cell_type": "code",
   "execution_count": 3,
   "metadata": {},
   "outputs": [],
   "source": [
    "import numpy as np \n",
    "from sklearn import datasets, metrics, model_selection"
   ]
  },
  {
   "cell_type": "code",
   "execution_count": 97,
   "metadata": {},
   "outputs": [
    {
     "name": "stdout",
     "output_type": "stream",
     "text": [
      "Доля ошибок на тестовой выборке 0.03786191536748329\n"
     ]
    }
   ],
   "source": [
    "train_X, test_X, train_y, test_y = df.data[:-int(0.25*len(df.data)),:], \\\n",
    "                                   df.data[-int(0.25*len(df.data)):,:], \\\n",
    "                                   df.target[:-int(0.25*len(df.target))], \\\n",
    "                                   df.target[-int(0.25*len(df.target)):]\n",
    "\n",
    "\n",
    "answers=[]\n",
    "for test in test_X:\n",
    "    result_value = train_y[np.argmin(np.sum((train_X-test)**2, axis=1))]\n",
    "    answers.append(result_value)\n",
    "    \n",
    "print('Доля ошибок на тестовой выборке', 1-metrics.accuracy_score(test_y, answers))\n",
    "\n",
    "def answer_1(x):\n",
    "    with open('C3W5_knn.txt', 'w') as f:\n",
    "        f.write(str(x))\n",
    "        \n",
    "answer_1(1-metrics.accuracy_score(test_y, answers))"
   ]
  },
  {
   "cell_type": "markdown",
   "metadata": {},
   "source": [
    "## Random Forest"
   ]
  },
  {
   "cell_type": "code",
   "execution_count": 100,
   "metadata": {},
   "outputs": [
    {
     "name": "stdout",
     "output_type": "stream",
     "text": [
      "0.22.1\n"
     ]
    }
   ],
   "source": [
    "import sklearn\n",
    "from sklearn import ensemble\n",
    "print(sklearn.__version__)"
   ]
  },
  {
   "cell_type": "code",
   "execution_count": 102,
   "metadata": {},
   "outputs": [
    {
     "data": {
      "text/plain": [
       "RandomForestClassifier(bootstrap=True, ccp_alpha=0.0, class_weight=None,\n",
       "                       criterion='gini', max_depth=None, max_features='auto',\n",
       "                       max_leaf_nodes=None, max_samples=None,\n",
       "                       min_impurity_decrease=0.0, min_impurity_split=None,\n",
       "                       min_samples_leaf=1, min_samples_split=2,\n",
       "                       min_weight_fraction_leaf=0.0, n_estimators=1000,\n",
       "                       n_jobs=None, oob_score=False, random_state=None,\n",
       "                       verbose=0, warm_start=False)"
      ]
     },
     "execution_count": 102,
     "metadata": {},
     "output_type": "execute_result"
    }
   ],
   "source": [
    "rf = ensemble.RandomForestClassifier(n_estimators=1000)\n",
    "rf.fit(train_X, train_y)\n",
    "rf.predict()"
   ]
  },
  {
   "cell_type": "code",
   "execution_count": 105,
   "metadata": {},
   "outputs": [],
   "source": [
    "with open('C2W5_knn_vs_rf.txt', 'w') as file:\n",
    "    file.write(str(1-metrics.accuracy_score(test_y, rf.predict(test_X))))\n",
    "    "
   ]
  },
  {
   "cell_type": "code",
   "execution_count": null,
   "metadata": {},
   "outputs": [],
   "source": []
  }
 ],
 "metadata": {
  "kernelspec": {
   "display_name": "Python 3",
   "language": "python",
   "name": "python3"
  },
  "language_info": {
   "codemirror_mode": {
    "name": "ipython",
    "version": 3
   },
   "file_extension": ".py",
   "mimetype": "text/x-python",
   "name": "python",
   "nbconvert_exporter": "python",
   "pygments_lexer": "ipython3",
   "version": "3.7.4"
  }
 },
 "nbformat": 4,
 "nbformat_minor": 4
}
