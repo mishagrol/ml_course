{
 "cells": [
  {
   "cell_type": "markdown",
   "metadata": {},
   "source": [
    "### Наивный байес "
   ]
  },
  {
   "cell_type": "code",
   "execution_count": 1,
   "metadata": {},
   "outputs": [
    {
     "name": "stderr",
     "output_type": "stream",
     "text": [
      "/Users/mikhailgasanov/opt/anaconda3/lib/python3.7/importlib/_bootstrap.py:219: RuntimeWarning: numpy.ufunc size changed, may indicate binary incompatibility. Expected 192 from C header, got 216 from PyObject\n",
      "  return f(*args, **kwds)\n"
     ]
    }
   ],
   "source": [
    "from sklearn import datasets, model_selection, naive_bayes"
   ]
  },
  {
   "cell_type": "code",
   "execution_count": 3,
   "metadata": {},
   "outputs": [],
   "source": [
    "df_digits = datasets.load_digits()\n",
    "df_breast_cancer = datasets.load_breast_cancer()"
   ]
  },
  {
   "cell_type": "code",
   "execution_count": 25,
   "metadata": {},
   "outputs": [],
   "source": [
    "dict_for_results = {}"
   ]
  },
  {
   "cell_type": "code",
   "execution_count": 23,
   "metadata": {},
   "outputs": [],
   "source": [
    "dict_for_results['std']=2"
   ]
  },
  {
   "cell_type": "code",
   "execution_count": 32,
   "metadata": {},
   "outputs": [
    {
     "data": {
      "text/plain": [
       "{'Bernoulli': [0.8241736304549674, 0.6274181027790716]}"
      ]
     },
     "execution_count": 32,
     "metadata": {},
     "output_type": "execute_result"
    }
   ],
   "source": [
    "dict_for_results"
   ]
  },
  {
   "cell_type": "code",
   "execution_count": 33,
   "metadata": {},
   "outputs": [],
   "source": [
    "dict_for_results = {}\n",
    "clf = naive_bayes.BernoulliNB()\n",
    "dict_for_results['Bernoulli'] = \\\n",
    "                [(model_selection.cross_val_score\\\n",
    "                  (clf, df_digits.data, df_digits.target)).mean(), \\\n",
    "                (model_selection.cross_val_score\\\n",
    "                  (clf, df_breast_cancer.data, df_breast_cancer.target)).mean()]\n",
    "\n",
    "\n",
    "clf = naive_bayes.MultinomialNB()\n",
    "dict_for_results['Multinomial'] = \\\n",
    "                [(model_selection.cross_val_score\\\n",
    "                  (clf, df_digits.data, df_digits.target)).mean(), \\\n",
    "                (model_selection.cross_val_score\\\n",
    "                  (clf, df_breast_cancer.data, df_breast_cancer.target)).mean()]\n",
    "\n",
    "\n",
    "clf = naive_bayes.GaussianNB()\n",
    "dict_for_results['Gaussian'] = \\\n",
    "                [(model_selection.cross_val_score\\\n",
    "                  (clf, df_digits.data, df_digits.target)).mean(), \\\n",
    "                (model_selection.cross_val_score\\\n",
    "                  (clf, df_breast_cancer.data, df_breast_cancer.target)).mean()]\n"
   ]
  },
  {
   "cell_type": "code",
   "execution_count": 34,
   "metadata": {},
   "outputs": [
    {
     "data": {
      "text/plain": [
       "{'Bernoulli': [0.8241736304549674, 0.6274181027790716],\n",
       " 'Multinomial': [0.8703497369235531, 0.8963204471355379],\n",
       " 'Gaussian': [0.8069281956050759, 0.9385188635305075]}"
      ]
     },
     "execution_count": 34,
     "metadata": {},
     "output_type": "execute_result"
    }
   ],
   "source": [
    "dict_for_results"
   ]
  },
  {
   "cell_type": "code",
   "execution_count": 38,
   "metadata": {},
   "outputs": [
    {
     "data": {
      "text/plain": [
       "0.8241736304549674"
      ]
     },
     "execution_count": 38,
     "metadata": {},
     "output_type": "execute_result"
    }
   ],
   "source": [
    "dict_for_results['Gaussian'][1]"
   ]
  },
  {
   "cell_type": "code",
   "execution_count": 43,
   "metadata": {},
   "outputs": [],
   "source": [
    "def answer_1(x):\n",
    "    with open('C2W5_answer_1.txt', 'w') as f:\n",
    "        f.write(str(x))\n",
    "answer_1(dict_for_results['Gaussian'][1])\n",
    "\n",
    "def answer_2(x):\n",
    "    with open('C2W5_answer_2.txt', 'w') as f:\n",
    "        f.write(str(x))\n",
    "answer_2(dict_for_results['Multinomial'][0])"
   ]
  },
  {
   "cell_type": "code",
   "execution_count": 44,
   "metadata": {},
   "outputs": [
    {
     "name": "stdout",
     "output_type": "stream",
     "text": [
      "0.8703497369235531"
     ]
    }
   ],
   "source": [
    "!cat C2W5_answer_2.txt"
   ]
  },
  {
   "cell_type": "code",
   "execution_count": 49,
   "metadata": {},
   "outputs": [
    {
     "data": {
      "text/plain": [
       "array([ 0.,  0.,  5., 13.,  9.,  1.,  0.,  0.,  0.,  0., 13., 15., 10.,\n",
       "       15.,  5.,  0.,  0.,  3., 15.,  2.,  0., 11.,  8.,  0.,  0.,  4.,\n",
       "       12.,  0.,  0.,  8.,  8.,  0.,  0.,  5.,  8.,  0.,  0.,  9.,  8.,\n",
       "        0.,  0.,  4., 11.,  0.,  1., 12.,  7.,  0.,  0.,  2., 14.,  5.,\n",
       "       10., 12.,  0.,  0.,  0.,  0.,  6., 13., 10.,  0.,  0.,  0.])"
      ]
     },
     "execution_count": 49,
     "metadata": {},
     "output_type": "execute_result"
    }
   ],
   "source": [
    "df_digits.data[0]"
   ]
  },
  {
   "cell_type": "code",
   "execution_count": 50,
   "metadata": {},
   "outputs": [],
   "source": [
    "!echo \"3 4\" > C2W5_answer_4.txt"
   ]
  },
  {
   "cell_type": "code",
   "execution_count": null,
   "metadata": {},
   "outputs": [],
   "source": []
  }
 ],
 "metadata": {
  "kernelspec": {
   "display_name": "Python 3",
   "language": "python",
   "name": "python3"
  },
  "language_info": {
   "codemirror_mode": {
    "name": "ipython",
    "version": 3
   },
   "file_extension": ".py",
   "mimetype": "text/x-python",
   "name": "python",
   "nbconvert_exporter": "python",
   "pygments_lexer": "ipython3",
   "version": "3.7.4"
  }
 },
 "nbformat": 4,
 "nbformat_minor": 4
}
