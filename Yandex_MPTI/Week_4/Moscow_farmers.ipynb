{
 "cells": [
  {
   "cell_type": "markdown",
   "metadata": {},
   "source": [
    "## Данные по фермерам и культурам Москвовской области "
   ]
  },
  {
   "cell_type": "code",
   "execution_count": 1,
   "metadata": {},
   "outputs": [],
   "source": [
    "import pandas as pd\n",
    "import numpy as np "
   ]
  },
  {
   "cell_type": "code",
   "execution_count": 170,
   "metadata": {},
   "outputs": [],
   "source": [
    "farm_df = pd.read_excel('./farm_datarame_moscow.xlsx', header=0)"
   ]
  },
  {
   "cell_type": "code",
   "execution_count": 173,
   "metadata": {},
   "outputs": [
    {
     "data": {
      "text/plain": [
       "count     6095\n",
       "unique    1801\n",
       "top        0.1\n",
       "freq       456\n",
       "Name: square, dtype: object"
      ]
     },
     "execution_count": 173,
     "metadata": {},
     "output_type": "execute_result"
    }
   ],
   "source": [
    "farm_df.square.describe()"
   ]
  },
  {
   "cell_type": "markdown",
   "metadata": {},
   "source": [
    "Тут оч криво удаляем всякие сомнительные значения из колонки `square`"
   ]
  },
  {
   "cell_type": "code",
   "execution_count": 157,
   "metadata": {},
   "outputs": [],
   "source": [
    "\n",
    "farm_df = farm_df[farm_df.square != '2.5.']\n",
    "farm_df = farm_df[farm_df.square != '35/35']\n",
    "farm_df = farm_df[farm_df.square != '  179/75']\n",
    "farm_df = farm_df[farm_df.square != '  80/85']\n",
    "farm_df = farm_df[farm_df.square != '   57/94']\n",
    "farm_df = farm_df[farm_df.square != 'Рожь']\n",
    "farm_df = farm_df[farm_df.square != '0.10.1']"
   ]
  },
  {
   "cell_type": "markdown",
   "metadata": {},
   "source": [
    "Продолжаем заменять все что только можно"
   ]
  },
  {
   "cell_type": "code",
   "execution_count": 158,
   "metadata": {},
   "outputs": [],
   "source": [
    "farm_df.replace(r'^\\s*$', np.nan, regex=True, inplace=True)"
   ]
  },
  {
   "cell_type": "markdown",
   "metadata": {},
   "source": [
    "Приводим к `float`"
   ]
  },
  {
   "cell_type": "code",
   "execution_count": 159,
   "metadata": {},
   "outputs": [],
   "source": [
    "farm_df.square=farm_df['square'].astype('float')\n",
    "farm_df.square.fillna(value=0, inplace=True)"
   ]
  },
  {
   "cell_type": "code",
   "execution_count": 160,
   "metadata": {},
   "outputs": [
    {
     "data": {
      "text/html": [
       "<div>\n",
       "<style scoped>\n",
       "    .dataframe tbody tr th:only-of-type {\n",
       "        vertical-align: middle;\n",
       "    }\n",
       "\n",
       "    .dataframe tbody tr th {\n",
       "        vertical-align: top;\n",
       "    }\n",
       "\n",
       "    .dataframe thead th {\n",
       "        text-align: right;\n",
       "    }\n",
       "</style>\n",
       "<table border=\"1\" class=\"dataframe\">\n",
       "  <thead>\n",
       "    <tr style=\"text-align: right;\">\n",
       "      <th></th>\n",
       "      <th>farmer</th>\n",
       "      <th>year</th>\n",
       "      <th>square</th>\n",
       "      <th>crop</th>\n",
       "    </tr>\n",
       "  </thead>\n",
       "  <tbody>\n",
       "    <tr>\n",
       "      <th>0</th>\n",
       "      <td>СПК \"Деметра\"</td>\n",
       "      <td>2019.0</td>\n",
       "      <td>175.0</td>\n",
       "      <td>ячмень</td>\n",
       "    </tr>\n",
       "    <tr>\n",
       "      <th>1</th>\n",
       "      <td>СПК \"Деметра\"</td>\n",
       "      <td>2019.0</td>\n",
       "      <td>166.0</td>\n",
       "      <td>оз пшеница</td>\n",
       "    </tr>\n",
       "    <tr>\n",
       "      <th>2</th>\n",
       "      <td>СПК \"Деметра\"</td>\n",
       "      <td>2019.0</td>\n",
       "      <td>129.0</td>\n",
       "      <td>оз пшеница</td>\n",
       "    </tr>\n",
       "    <tr>\n",
       "      <th>3</th>\n",
       "      <td>СПК \"Деметра\"</td>\n",
       "      <td>2019.0</td>\n",
       "      <td>0.0</td>\n",
       "      <td>NaN</td>\n",
       "    </tr>\n",
       "    <tr>\n",
       "      <th>4</th>\n",
       "      <td>СПК \"Деметра\"</td>\n",
       "      <td>2019.0</td>\n",
       "      <td>0.0</td>\n",
       "      <td>NaN</td>\n",
       "    </tr>\n",
       "    <tr>\n",
       "      <th>...</th>\n",
       "      <td>...</td>\n",
       "      <td>...</td>\n",
       "      <td>...</td>\n",
       "      <td>...</td>\n",
       "    </tr>\n",
       "    <tr>\n",
       "      <th>6832</th>\n",
       "      <td>ООО \"ЮгПодмосковья\"</td>\n",
       "      <td>2019.0</td>\n",
       "      <td>43889.0</td>\n",
       "      <td>Рапс яровой</td>\n",
       "    </tr>\n",
       "    <tr>\n",
       "      <th>6833</th>\n",
       "      <td>К(Ф)Х \"Междуречье\" Денисов М.В.</td>\n",
       "      <td>2019.0</td>\n",
       "      <td>0.0</td>\n",
       "      <td>NaN</td>\n",
       "    </tr>\n",
       "    <tr>\n",
       "      <th>6834</th>\n",
       "      <td>К(Ф)Х \"Междуречье\" Денисов М.В.</td>\n",
       "      <td>2019.0</td>\n",
       "      <td>43896.0</td>\n",
       "      <td>картофель</td>\n",
       "    </tr>\n",
       "    <tr>\n",
       "      <th>6835</th>\n",
       "      <td>К(Ф)Х \"Междуречье\" Денисов М.В.</td>\n",
       "      <td>2019.0</td>\n",
       "      <td>44022.0</td>\n",
       "      <td>картофель</td>\n",
       "    </tr>\n",
       "    <tr>\n",
       "      <th>6836</th>\n",
       "      <td>К(Ф)Х Киселева В. П.</td>\n",
       "      <td>2019.0</td>\n",
       "      <td>10.0</td>\n",
       "      <td>картофель</td>\n",
       "    </tr>\n",
       "  </tbody>\n",
       "</table>\n",
       "<p>6829 rows × 4 columns</p>\n",
       "</div>"
      ],
      "text/plain": [
       "                               farmer    year   square         crop\n",
       "0                       СПК \"Деметра\"  2019.0    175.0       ячмень\n",
       "1                       СПК \"Деметра\"  2019.0    166.0   оз пшеница\n",
       "2                       СПК \"Деметра\"  2019.0    129.0   оз пшеница\n",
       "3                       СПК \"Деметра\"  2019.0      0.0          NaN\n",
       "4                       СПК \"Деметра\"  2019.0      0.0          NaN\n",
       "...                               ...     ...      ...          ...\n",
       "6832              ООО \"ЮгПодмосковья\"  2019.0  43889.0  Рапс яровой\n",
       "6833  К(Ф)Х \"Междуречье\" Денисов М.В.  2019.0      0.0          NaN\n",
       "6834  К(Ф)Х \"Междуречье\" Денисов М.В.  2019.0  43896.0    картофель\n",
       "6835  К(Ф)Х \"Междуречье\" Денисов М.В.  2019.0  44022.0    картофель\n",
       "6836             К(Ф)Х Киселева В. П.  2019.0     10.0    картофель\n",
       "\n",
       "[6829 rows x 4 columns]"
      ]
     },
     "execution_count": 160,
     "metadata": {},
     "output_type": "execute_result"
    }
   ],
   "source": [
    "#farm_df.dropna(how='any', inplace=True)\n",
    "farm_df"
   ]
  },
  {
   "cell_type": "code",
   "execution_count": 161,
   "metadata": {},
   "outputs": [],
   "source": [
    "new_df = farm_df.groupby(['farmer']).agg('sum')"
   ]
  },
  {
   "cell_type": "code",
   "execution_count": 162,
   "metadata": {},
   "outputs": [],
   "source": [
    "new_df.reset_index(inplace=True)"
   ]
  },
  {
   "cell_type": "code",
   "execution_count": 169,
   "metadata": {},
   "outputs": [
    {
     "data": {
      "text/plain": [
       "0           1.430000\n",
       "1      247612.972852\n",
       "2          37.890000\n",
       "3          26.310000\n",
       "4           7.500000\n",
       "           ...      \n",
       "170      1351.611000\n",
       "171      9696.955000\n",
       "172        30.270000\n",
       "173         0.600000\n",
       "174         1.481081\n",
       "Name: square, Length: 175, dtype: float64"
      ]
     },
     "execution_count": 169,
     "metadata": {},
     "output_type": "execute_result"
    }
   ],
   "source": [
    "new_df.square/100"
   ]
  },
  {
   "cell_type": "code",
   "execution_count": 174,
   "metadata": {},
   "outputs": [
    {
     "data": {
      "text/plain": [
       "6.666666666666667"
      ]
     },
     "execution_count": 174,
     "metadata": {},
     "output_type": "execute_result"
    }
   ],
   "source": [
    "100/15"
   ]
  },
  {
   "cell_type": "code",
   "execution_count": null,
   "metadata": {},
   "outputs": [],
   "source": []
  }
 ],
 "metadata": {
  "kernelspec": {
   "display_name": "Python 3",
   "language": "python",
   "name": "python3"
  },
  "language_info": {
   "codemirror_mode": {
    "name": "ipython",
    "version": 3
   },
   "file_extension": ".py",
   "mimetype": "text/x-python",
   "name": "python",
   "nbconvert_exporter": "python",
   "pygments_lexer": "ipython3",
   "version": "3.7.4"
  }
 },
 "nbformat": 4,
 "nbformat_minor": 4
}
