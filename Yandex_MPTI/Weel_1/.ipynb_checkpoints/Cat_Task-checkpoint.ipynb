{
 "cells": [
  {
   "cell_type": "markdown",
   "metadata": {},
   "source": [
    "## Cat task - Yandex Coursera "
   ]
  },
  {
   "cell_type": "markdown",
   "metadata": {},
   "source": [
    "Import file with text"
   ]
  },
  {
   "cell_type": "code",
   "execution_count": 198,
   "metadata": {},
   "outputs": [],
   "source": [
    "import re"
   ]
  },
  {
   "cell_type": "code",
   "execution_count": 199,
   "metadata": {},
   "outputs": [],
   "source": [
    "with open('./sentences.txt', 'r') as file:\n",
    "    local_file = list(file)\n",
    "    file.close()"
   ]
  },
  {
   "cell_type": "code",
   "execution_count": 200,
   "metadata": {},
   "outputs": [],
   "source": [
    "temp_list=[]\n",
    "\n",
    "#Приводим весть текст к нижнему регистру \n",
    "\n",
    "for line in local_file:\n",
    "    #Приводим весть текст к нижнему регистру \n",
    "    exp_line = line.lower()\n",
    "    #Убираем пробели, знаки, оставляем только слова \n",
    "    str_list = list(filter(None, (re.split('[^a-z]', exp_line))))\n",
    "    temp_list.append(str_list)\n",
    "    #print(temp_list)"
   ]
  },
  {
   "cell_type": "code",
   "execution_count": 201,
   "metadata": {},
   "outputs": [
    {
     "name": "stdout",
     "output_type": "stream",
     "text": [
      "254\n"
     ]
    }
   ],
   "source": [
    "\n",
    "# собираем всем уникальные слова всего текста в один set()\n",
    "\n",
    "output = set()\n",
    "for line in temp_list:\n",
    "    for j in line:\n",
    "        output.add(j)\n",
    "        output_list.append(j)\n",
    "#print(sorted(output))\n",
    "\n",
    "# Всего должны получить 254 уникальных слова\n",
    "\n",
    "print(len(output))\n"
   ]
  },
  {
   "cell_type": "markdown",
   "metadata": {},
   "source": [
    "Словарь вхождения слов "
   ]
  },
  {
   "cell_type": "code",
   "execution_count": 202,
   "metadata": {},
   "outputs": [],
   "source": [
    "list_of_words = list(output)"
   ]
  },
  {
   "cell_type": "code",
   "execution_count": 203,
   "metadata": {},
   "outputs": [],
   "source": [
    "list_of_order_values = list(range(254))"
   ]
  },
  {
   "cell_type": "code",
   "execution_count": 204,
   "metadata": {},
   "outputs": [],
   "source": [
    "dict_of_words = dict(zip(output, list_of_order_values))"
   ]
  },
  {
   "cell_type": "code",
   "execution_count": 205,
   "metadata": {},
   "outputs": [
    {
     "data": {
      "text/plain": [
       "'mountain'"
      ]
     },
     "execution_count": 205,
     "metadata": {},
     "output_type": "execute_result"
    }
   ],
   "source": [
    "list_of_words[1]"
   ]
  },
  {
   "cell_type": "markdown",
   "metadata": {},
   "source": [
    "Создаем матрицу `n*d` где n число строк, a d число всех слов"
   ]
  },
  {
   "cell_type": "code",
   "execution_count": 206,
   "metadata": {},
   "outputs": [],
   "source": [
    "import numpy as np"
   ]
  },
  {
   "cell_type": "code",
   "execution_count": 207,
   "metadata": {},
   "outputs": [],
   "source": [
    "cat_matrix = np.zeros([22,254])"
   ]
  },
  {
   "cell_type": "code",
   "execution_count": 208,
   "metadata": {},
   "outputs": [
    {
     "data": {
      "text/plain": [
       "(22, 254)"
      ]
     },
     "execution_count": 208,
     "metadata": {},
     "output_type": "execute_result"
    }
   ],
   "source": [
    "cat_matrix.shape"
   ]
  },
  {
   "cell_type": "code",
   "execution_count": 209,
   "metadata": {},
   "outputs": [
    {
     "name": "stdout",
     "output_type": "stream",
     "text": [
      "[13, 40, 46, 93, 98, 103, 114, 115, 126, 138, 191, 203, 234, 244]\n",
      "\n",
      "\n",
      "[6, 19, 47, 50, 64, 65, 79, 108, 114, 123, 123, 132, 154, 154, 155, 156, 174, 188, 190, 212, 212, 217, 246, 246]\n",
      "\n",
      "\n",
      "[33, 58, 114, 114, 126, 133, 164, 164, 167, 179, 188, 194, 207, 214, 214, 214, 227, 228, 228, 246, 246]\n",
      "\n",
      "\n",
      "[14, 23, 23, 63, 70, 73, 74, 79, 85, 98, 111, 125, 131, 141, 142, 144, 160, 161, 174, 194, 203, 211, 242, 243]\n",
      "\n",
      "\n",
      "[0, 37, 46, 79, 80, 88, 91, 96, 98, 124, 163, 170, 203, 203, 214, 216, 224, 246, 246]\n",
      "\n",
      "\n",
      "[12, 27, 35, 53, 68, 69, 82, 85, 85, 119, 126, 143, 183, 188, 189, 202, 215, 251]\n",
      "\n",
      "\n",
      "[59, 75, 85, 85, 98, 114, 119, 120, 126, 126, 177, 192, 203, 208, 229, 236, 237, 243, 246, 250, 252]\n",
      "\n",
      "\n",
      "[58, 58, 73, 126, 130, 164, 188, 196, 230, 245, 247]\n",
      "\n",
      "\n",
      "[18, 19, 22, 38, 41, 51, 58, 58, 70, 76, 80, 96, 96, 97, 99, 104, 105, 114, 126, 126, 128, 147, 148, 151, 156, 159, 171, 188, 193, 197, 207, 210, 214, 221, 228, 228, 246, 246]\n",
      "\n",
      "\n",
      "[4, 31, 44, 56, 64, 85, 100, 106, 114, 134, 151, 157, 169, 181, 188, 203, 206, 214, 214, 242, 246, 246, 246, 248]\n",
      "\n",
      "\n",
      "[58, 82, 83, 84, 96, 107, 126, 126, 135, 145, 153, 162, 168, 188, 197, 197, 203, 206, 246]\n",
      "\n",
      "\n",
      "[5, 7, 22, 48, 83, 86, 108, 114, 126, 149, 174, 188, 214, 228, 231, 231, 239, 247]\n",
      "\n",
      "\n",
      "[8, 65, 83, 85, 86, 126, 126, 127, 154, 154, 156, 162, 179, 188, 195, 197, 200, 203, 218, 238, 253]\n",
      "\n",
      "\n",
      "[9, 38, 39, 54, 58, 66, 72, 79, 85, 89, 121, 126, 152, 198, 203, 233, 246]\n",
      "\n",
      "\n",
      "[11, 21, 39, 49, 49, 57, 85, 110, 114, 138, 150, 201, 202, 213, 219, 233]\n",
      "\n",
      "\n",
      "[11, 13, 16, 17, 24, 50, 77, 79, 90, 95, 102, 112, 150, 173, 175, 201, 213, 233, 235, 246, 246]\n",
      "\n",
      "\n",
      "[10, 11, 11, 24, 24, 38, 39, 42, 55, 60, 67, 71, 85, 85, 90, 92, 108, 114, 114, 116, 126, 132, 136, 140, 150, 184, 187, 201, 201, 203, 209, 213, 231, 248, 249]\n",
      "\n",
      "\n",
      "[1, 11, 25, 38, 52, 61, 79, 81, 85, 85, 94, 101, 109, 113, 114, 121, 129, 139, 150, 152, 165, 172, 182, 194, 201, 201, 213, 213, 214, 220, 241, 246]\n",
      "\n",
      "\n",
      "[1, 11, 15, 26, 32, 38, 52, 74, 85, 113, 117, 122, 126, 152, 158, 166, 194, 201, 205, 213, 214, 246, 248]\n",
      "\n",
      "\n",
      "[1, 7, 11, 28, 29, 30, 34, 36, 43, 52, 101, 118, 126, 126, 176, 178, 188, 214, 232, 240, 248]\n",
      "\n",
      "\n",
      "[1, 2, 3, 20, 45, 52, 62, 73, 78, 87, 114, 126, 146, 150, 173, 185, 186, 197, 199, 201, 203, 204, 213, 214, 222, 232]\n",
      "\n",
      "\n",
      "[1, 11, 29, 57, 114, 115, 126, 137, 142, 150, 180, 182, 201, 213, 214, 223, 225, 226, 233, 242, 246]\n",
      "\n",
      "\n"
     ]
    }
   ],
   "source": [
    "# Создаем пустую матрицу нулей размером 22 на 254\n",
    "cat_matrix = np.zeros([22,254])\n",
    "position_line = 0\n",
    "\n",
    "# Пока счеткик меньше кол-ва предложений бежим по линиями в листе\n",
    "while position_line < len(temp_list):\n",
    "    for line in temp_list:\n",
    "        #print(len(line))\n",
    "        \n",
    "        # Генерим пустой лист для каждой линии\n",
    "        chisla_for_matrix = []\n",
    "        for word in line:\n",
    "            #print(word, end=' ')\n",
    "            #print(dict_of_words[word])\n",
    "            \n",
    "            #В пустой лист добавляет номера слов которые встречаются в предложении путем получения их через ключ\n",
    "            \n",
    "            chisla_for_matrix.append(dict_of_words[word]) \n",
    "\n",
    "        print(sorted(chisla_for_matrix))\n",
    "        \n",
    "        # В этом цикле мы увеличиваем на 1 значение (i,j) в матрице есть слово есть в предложение\n",
    "        for position_number in sorted(chisla_for_matrix):\n",
    "            #print(position_line, position_number)\n",
    "            cat_matrix[position_line, position_number] += 1\n",
    "        print('\\n')\n",
    "        \n",
    "        #Бежим на новую строчку\n",
    "        \n",
    "        position_line +=1\n"
   ]
  },
  {
   "cell_type": "code",
   "execution_count": 210,
   "metadata": {},
   "outputs": [
    {
     "data": {
      "text/plain": [
       "array([1., 2., 3., 2., 2., 2., 2., 2., 2., 3., 2., 2., 2., 1., 2., 2., 2.,\n",
       "       2., 1., 2., 1., 1.])"
      ]
     },
     "execution_count": 210,
     "metadata": {},
     "output_type": "execute_result"
    }
   ],
   "source": [
    "cat_matrix.max(1)"
   ]
  },
  {
   "cell_type": "markdown",
   "metadata": {},
   "source": [
    "Находим `scipy.spatial.distance.cosine` для всех первого предложения"
   ]
  },
  {
   "cell_type": "code",
   "execution_count": 211,
   "metadata": {},
   "outputs": [],
   "source": [
    "import scipy"
   ]
  },
  {
   "cell_type": "code",
   "execution_count": 212,
   "metadata": {},
   "outputs": [
    {
     "data": {
      "text/plain": [
       "(254,)"
      ]
     },
     "execution_count": 212,
     "metadata": {},
     "output_type": "execute_result"
    }
   ],
   "source": [
    "cat_matrix[0,:].shape"
   ]
  },
  {
   "cell_type": "code",
   "execution_count": 213,
   "metadata": {},
   "outputs": [
    {
     "data": {
      "text/plain": [
       "0.9527544408738466"
      ]
     },
     "execution_count": 213,
     "metadata": {},
     "output_type": "execute_result"
    }
   ],
   "source": [
    "scipy.spatial.distance.cosine(cat_matrix[0,:], cat_matrix[1,:])"
   ]
  },
  {
   "cell_type": "code",
   "execution_count": 215,
   "metadata": {},
   "outputs": [
    {
     "name": "stdout",
     "output_type": "stream",
     "text": [
      "0.0\n",
      "0.9527544408738466\n",
      "0.8644738145642124\n",
      "0.8951715163278082\n",
      "0.7770887149698589\n",
      "0.9402385695332803\n",
      "0.7327387580875756\n",
      "0.9258750683338899\n",
      "0.8842724875284311\n",
      "0.9055088817476932\n",
      "0.8328165362273942\n",
      "0.8804771390665607\n",
      "0.8396432548525454\n",
      "0.8703592552895671\n",
      "0.8740118423302576\n",
      "0.9442721787424647\n",
      "0.8406361854220809\n",
      "0.956644501523794\n",
      "0.9442721787424647\n",
      "0.8885443574849294\n",
      "0.8427572744917122\n",
      "0.8250364469440588\n"
     ]
    }
   ],
   "source": [
    "cosine_list = []\n",
    "for lines in range(len(cat_matrix)):\n",
    "    #print(lines)\n",
    "    result = scipy.spatial.distance.cosine(cat_matrix[0,:], cat_matrix[lines,:])\n",
    "    print(result)\n",
    "    cosine_list.append(result)"
   ]
  },
  {
   "cell_type": "code",
   "execution_count": 216,
   "metadata": {},
   "outputs": [],
   "source": [
    "cosine_matrix = np.array(cosine_list)"
   ]
  },
  {
   "cell_type": "code",
   "execution_count": 217,
   "metadata": {},
   "outputs": [
    {
     "data": {
      "text/plain": [
       "0.956644501523794"
      ]
     },
     "execution_count": 217,
     "metadata": {},
     "output_type": "execute_result"
    }
   ],
   "source": [
    "cosine_matrix.max()"
   ]
  },
  {
   "cell_type": "code",
   "execution_count": 218,
   "metadata": {},
   "outputs": [],
   "source": [
    "round_cosine = np.around(cosine_matrix, 3)"
   ]
  },
  {
   "cell_type": "code",
   "execution_count": 219,
   "metadata": {},
   "outputs": [
    {
     "data": {
      "text/plain": [
       "array([0.   , 0.733, 0.777, 0.825, 0.833, 0.84 , 0.841, 0.843, 0.864,\n",
       "       0.87 , 0.874, 0.88 , 0.884, 0.889, 0.895, 0.906, 0.926, 0.94 ,\n",
       "       0.944, 0.944, 0.953, 0.957])"
      ]
     },
     "execution_count": 219,
     "metadata": {},
     "output_type": "execute_result"
    }
   ],
   "source": [
    "np.sort(np.around(cosine_matrix,3))"
   ]
  },
  {
   "cell_type": "code",
   "execution_count": 222,
   "metadata": {},
   "outputs": [],
   "source": [
    "round_cosine.argmax(axis=0)\n",
    "indices = np.where(round_cosine == round_cosine.max())"
   ]
  },
  {
   "cell_type": "code",
   "execution_count": 223,
   "metadata": {},
   "outputs": [
    {
     "data": {
      "text/plain": [
       "(array([17]),)"
      ]
     },
     "execution_count": 223,
     "metadata": {},
     "output_type": "execute_result"
    }
   ],
   "source": [
    "indices"
   ]
  },
  {
   "cell_type": "markdown",
   "metadata": {},
   "source": [
    "## Results"
   ]
  },
  {
   "cell_type": "code",
   "execution_count": 192,
   "metadata": {},
   "outputs": [
    {
     "name": "stdout",
     "output_type": "stream",
     "text": [
      "Два наиболее схожих предлложения имеют номера 1 and 17 и значения: 0.953 0.957\n"
     ]
    }
   ],
   "source": [
    "print('Два наиболее схожих предлложения имеют номера 1 and 17 и значения:', round_cosine[1],round_cosine[17])"
   ]
  },
  {
   "cell_type": "code",
   "execution_count": 196,
   "metadata": {},
   "outputs": [],
   "source": [
    "!echo \"1 17\" > result_cats.txt"
   ]
  },
  {
   "cell_type": "code",
   "execution_count": null,
   "metadata": {},
   "outputs": [],
   "source": []
  }
 ],
 "metadata": {
  "kernelspec": {
   "display_name": "Python 3",
   "language": "python",
   "name": "python3"
  },
  "language_info": {
   "codemirror_mode": {
    "name": "ipython",
    "version": 3
   },
   "file_extension": ".py",
   "mimetype": "text/x-python",
   "name": "python",
   "nbconvert_exporter": "python",
   "pygments_lexer": "ipython3",
   "version": "3.7.4"
  }
 },
 "nbformat": 4,
 "nbformat_minor": 4
}
