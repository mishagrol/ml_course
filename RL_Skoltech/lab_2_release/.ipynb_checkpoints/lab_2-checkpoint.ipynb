{
 "cells": [
  {
   "cell_type": "markdown",
   "metadata": {},
   "source": [
    "<img src=\"skoltech_logo.png\" alt=\"Skoltech\" width=60% height=60% />\n",
    "<h1 style=\"color:#333333; text-align:center; line-height: 0;\">Reinforcement Learning</h1>\n",
    "<h5 style=\"color:#333333; text-align:center;\">Course MA030422</h5>\n",
    "\n",
    "<h2 style=\"color:#A7BD3F;\">Lab 2</h2>\n",
    "\n",
    "***\n",
    "\n",
    "### Goal of this lab\n",
    "\n",
    "The purpose of this lab is to:\n",
    "1. Introduce you to the the gym-minigrid environment\n",
    "2. Practice creating and training neural networks in Pytorch for the purpose of applying them as function approximators in RL.\n",
    "3. Solve the gym-minigrid environment with a cross entropy RL algorithm\n",
    "\n",
    "### Components\n",
    "\n",
    "* **Section 1**: OpenAI <b style=\"color:blue;\">Gym-Mingrid</b> environment\n",
    "* **Section 2**: Neural networks in Pytorch\n",
    "    * Exercise 1 - Training a neural network\n",
    "        * Problem 1.1 (15 points) \n",
    "* **Section 3**: Neural networks in Pytorch\n",
    "    * Exercise 2 - Solving Minigrid 5x5\n",
    "        * Problem 2.1 (5 points)\n",
    "        * Problem 2.2 (15 points)\n",
    "        * Problem 2.3 (2 points)\n",
    "        \n",
    "Total points: 37"
   ]
  },
  {
   "cell_type": "markdown",
   "metadata": {},
   "source": [
    "<h2 style=\"color:#A7BD3F;\">Imports and Autograder</h2>\n",
    "\n",
    "***\n",
    "Take care of imports early on:"
   ]
  },
  {
   "cell_type": "code",
   "execution_count": null,
   "metadata": {},
   "outputs": [],
   "source": [
    "# torch\n",
    "import torch\n",
    "import torch.nn as nn\n",
    "import torch.optim as optim\n",
    "\n",
    "# sklearn\n",
    "from sklearn.model_selection import train_test_split\n",
    "from sklearn.preprocessing import StandardScaler\n",
    "\n",
    "# gym\n",
    "import gym\n",
    "from gym import wrappers\n",
    "import gym_minigrid\n",
    "from gym_minigrid.minigrid import IDX_TO_OBJECT\n",
    "from gym_minigrid.wrappers import ImgObsWrapper, OneHotPartialObsWrapper\n",
    "\n",
    "# others\n",
    "import numpy as np\n",
    "import pandas as pd\n",
    "import matplotlib.pyplot as plt\n",
    "from IPython import display\n",
    "import random\n",
    "from collections import namedtuple\n",
    "from tensorboardX import SummaryWriter\n",
    "from IPython import display\n",
    "from grading_utilities import AnswerTracker"
   ]
  },
  {
   "cell_type": "markdown",
   "metadata": {},
   "source": [
    "### <font color=\"orange\">Auto-grading</font>\n",
    "Run this cell to track your answers"
   ]
  },
  {
   "cell_type": "code",
   "execution_count": null,
   "metadata": {},
   "outputs": [],
   "source": [
    "### GRADING DO NOT MODIFY\n",
    "lab2_answers = AnswerTracker()"
   ]
  },
  {
   "cell_type": "markdown",
   "metadata": {},
   "source": [
    "<h2 style=\"color:#A7BD3F;\">Section 1 - Environment</h2>\n",
    "\n",
    "***\n",
    "\n",
    "### Intro to OpenAI <i style=\"color:blue;\">gym minigrid</i> environment\n",
    "\n",
    "In lab 2 we will be exploring agent training in an grid world environment called *gym-minigrid*, seen [here](https://github.com/maximecb/gym-minigrid). The environment has the following characteristics <sup>[1]</sup>:\n",
    "\n",
    "<blockquote cite=\"https://github.com/maximecb/gym-minigrid\"><h4>Structure of the world:</h4>\n",
    "\n",
    "* The world is an NxM grid of tiles\n",
    "* Each tile in the grid world contains zero or one object\n",
    "* Cells that do not contain an object have the value None\n",
    "* Each object has an associated discrete color (string)\n",
    "* Each object has an associated type (string)\n",
    "* Provided object types are: wall, floor, lava, door, key, ball, box and goal\n",
    "* The agent can pick up and carry exactly one object (eg: ball or key)\n",
    "* To open a locked door, the agent has to be carrying a key matching the door's color\n",
    "\n",
    "#### Actions in the basic environment:\n",
    "\n",
    "* Turn left\n",
    "* Turn right\n",
    "* Move forward\n",
    "* Pick up an object\n",
    "* Drop the object being carried\n",
    "* Toggle (open doors, interact with objects)\n",
    "* Done (task completed, optional)\n",
    "* Default tile/observation encoding:\n",
    "\n",
    "<br />\n",
    "Each tile is encoded as a 3 dimensional tuple: (OBJECT_IDX, COLOR_IDX, STATE)</blockquote>\n",
    "\n",
    "### About the agent\n",
    "\n",
    "From <sup>[2]</sup>:\n",
    ">Observations in MiniGrid are partial and egocentric. By default, the agent sees a square of 7x7 tiles in the direction it is facing. These include the tile the agent is standing on. The agent cannot see through walls or closed doors. **The observations are provided as a tensor of shape 7x7x3**. However, note that these are not RGB images. Each tile is encoded using 3 integer values: one describing the type of object contained in the cell, one describing its color, and a state indicating whether doors are open, closed or locked. This compact encoding was chosen for space efficiency and to enable faster training. The fully observable RGB image view of the environments shown in this paper is provided for human viewing.\n",
    "\n",
    "To ease the computational burden of training (and for the sake of learning) - we will be training on a small 5x5 grid (it's really 3x3, as 5x5 includes walls):\n",
    "\n",
    "<img src=\"minigrid_5x5.png\" alt=\"Gym Minigrid\" width=30% height=30% />\n",
    "\n",
    "The picture below demonstrates an 8x8 grid (including walls):\n",
    "\n",
    "<img src=\"minigrid.png\" alt=\"Gym Minigrid\" width=40% height=40% />\n",
    "\n",
    "Notice the highlighted cells? That is actually the agent's view of the environment. As mentioned in the quoted text above, the agent's view is codifed as 7x7x3 tensor, and it appears as such (run the following cell):"
   ]
  },
  {
   "cell_type": "code",
   "execution_count": null,
   "metadata": {
    "scrolled": false
   },
   "outputs": [],
   "source": [
    "# specify env name\n",
    "env_name = \"MiniGrid-Empty-6x6-v0\"\n",
    "\n",
    "# instantiate env\n",
    "env = gym.make(env_name)\n",
    "\n",
    "# apply wrapper\n",
    "env = ImgObsWrapper(env)\n",
    "\n",
    "# reset env to assign first obv\n",
    "obs = env.reset()\n",
    "obs"
   ]
  },
  {
   "cell_type": "markdown",
   "metadata": {},
   "source": [
    "The first 2 dimensions of the tensor above have 7 elements each which signify the y and x coordinates, respectively, of the agent's observational field view. Note:\n",
    "* The y-axis starts from the top of the figure and moves downwards. \n",
    "* The agent's observational view may start **beyond** the confines of the grid\n",
    "\n",
    "The third dimension (of 3 elements) specifies <sup>[1]</sup>:\n",
    "* The type of object contained in the cell,\n",
    "* One describing its color,\n",
    "* And a state indicating whether doors are open, closed or locked.\n",
    "\n",
    "The object types (int) can be mapped to English representations:"
   ]
  },
  {
   "cell_type": "code",
   "execution_count": null,
   "metadata": {},
   "outputs": [],
   "source": [
    "IDX_TO_OBJECT"
   ]
  },
  {
   "cell_type": "markdown",
   "metadata": {},
   "source": [
    "Let's map the agent's integer-based observational-field-tensor to a unicode, string-based representation using the dict above:"
   ]
  },
  {
   "cell_type": "code",
   "execution_count": null,
   "metadata": {},
   "outputs": [],
   "source": [
    "mapped_obs = np.empty((7,7,3), dtype='<U6')\n",
    "\n",
    "for key, val in IDX_TO_OBJECT.items():\n",
    "    mapped_obs[obs == key] = val\n",
    "    \n",
    "mapped_obs"
   ]
  },
  {
   "cell_type": "markdown",
   "metadata": {},
   "source": [
    "The mapped observations above confirm that the agent sees the goal in:\n",
    "* the 7th cell **down** (7th coordinate on the y-axis, which is the 6th indice of the 1st dimension of the `obs` tensor)\n",
    "* and the 4th cell **across** (4th cell on the x-axis, which is the 3rd indice of the 2nd dimension of the `obs` tensor)\n",
    "* Remember: The indices of container objects (lists, tuples, arrays, tensors, etc) in Python start from 0, not 1\n",
    "\n",
    "Below we retrieve the **indices** of the cell at Euclidean coordinates (7, 4) from the mapped observations:"
   ]
  },
  {
   "cell_type": "code",
   "execution_count": null,
   "metadata": {},
   "outputs": [],
   "source": [
    "y, x, _ = np.where(mapped_obs=='goal')\n",
    "y.item(), x.item()"
   ]
  },
  {
   "cell_type": "markdown",
   "metadata": {},
   "source": [
    "Now let's review and confirm these numbers visually:"
   ]
  },
  {
   "cell_type": "code",
   "execution_count": null,
   "metadata": {},
   "outputs": [],
   "source": [
    "plt.figure(figsize=(5,5))\n",
    "plt.imshow(env.render(mode='rgb_array', highlight=True))"
   ]
  },
  {
   "cell_type": "markdown",
   "metadata": {},
   "source": [
    "Although the agent's observational field of view starts beyond the confines of the **grid**, we see the numbers are correct: the green goal cell is in the 7th cell down (6th indice) and 4th cell across (3rd indice) from the observational field (0,0) coordinate."
   ]
  },
  {
   "cell_type": "markdown",
   "metadata": {},
   "source": [
    "### Our goal\n",
    "\n",
    "Our goal will be to train the agent to move to the green cell using function approximation with neural networks. Note that the gym-minigrid environment is customizable, and many interesting customizations are already provided in the repo above."
   ]
  },
  {
   "cell_type": "markdown",
   "metadata": {},
   "source": [
    "<h2 style=\"color:#A7BD3F;\">Section 2 - Getting comfortable with Neural Networks</h2>\n",
    "\n",
    "***\n",
    "\n",
    "Before we get started with creating the algorithm to solve the environment, we need to understand how to create and train neural networks in Pytorch.\n",
    "\n",
    "### Quick primer on neural networks\n",
    "\n",
    "As discussed in homework 1, in RL there are 3 general types of functions:\n",
    "* value functions\n",
    "* policy function\n",
    "* reward function\n",
    "\n",
    "Unlike in homework 1, where we solved a discrete/finite state and action space MDP -- real world problems typically involve continuous state and action spaces, usually in more than 3 dimensions (more than 6 is rare).\n",
    "\n",
    "To solve environments with ❗<font color=\"red\">continuous</font> state and action spaces (often that do not provide any explicit transition probabilities or reward functions), we use statistical models for function approximation.\n",
    "\n",
    "Of the various types of ML models available to us, the powerful abilities of neural networks make them among the more commonly selected for this task. This is because neural nets can model highly complex data, unstructured data, and are scalable to data size. Neural networks are often used in RL to approximate the **policy function**, specifically.\n",
    "\n",
    "💡 The use of **multi-layer** neural networks as function approximators in RL is what gives the name **Deep** in *Deep RL*.\n",
    "\n",
    "#### <font color=\"blue\">Side track:</font>\n",
    "If you're *completely* new to neural networks, checkout out the following links for a nice introduction:\n",
    "* [Neural networks and deep learning](http://neuralnetworksanddeeplearning.com/chap1.html)\n",
    "* [Tensorflow playground](https://playground.tensorflow.org/#activation=tanh&batchSize=10&dataset=circle&regDataset=reg-plane&learningRate=0.03&regularizationRate=0&noise=0&networkShape=4,2&seed=0.39899&showTestData=false&discretize=false&percTrainData=50&x=true&y=true&xTimesY=false&xSquared=false&ySquared=false&cosX=false&sinX=false&cosY=false&sinY=false&collectStats=false&problem=classification&initZero=false&hideText=false)\n",
    "* [Intro to Deep Learning with Pytorch](https://pytorch.org/deep-learning-with-pytorch)\n",
    "* [Deep Learning Wizard](https://www.deeplearningwizard.com)\n",
    "\n",
    "Or message your instructors for good books on the subject.\n",
    "\n",
    "### Demo of a neural network\n",
    "\n",
    "The 3 most popular libraries for deep learning with Python are: Pytorch (developed by Facebook; open source), Tensorflow (developed by Google; open source), and Keras (built on top of Tensorflow; open source).\n",
    "\n",
    "We will be using Pytorch, as it is my favorite DL library and is usually preferred by research scientists and other individuals who like maximum control over neural architectures and ease of tensor operations. If you're new to Pytorch, check out the following [Tutorials](https://pytorch.org/tutorials/).\n",
    "\n",
    "Below, we demonstrate the basic structure of a 3 layer neural network with the aim to show you that it is simply a mathematical model."
   ]
  },
  {
   "cell_type": "markdown",
   "metadata": {},
   "source": [
    "### Create tensor\n",
    "\n",
    "Below we create a tensor that contains random integers (converted to 32-bit float values) in the shape of 5 rows and 3 columns. The rows represent **training examples** and the columns represent **features**. So we have 5 training examples, each with 3 features."
   ]
  },
  {
   "cell_type": "code",
   "execution_count": null,
   "metadata": {},
   "outputs": [],
   "source": [
    "# clear previous variables from memory\n",
    "try:\n",
    "    del x\n",
    "    del y\n",
    "    del env\n",
    "except:\n",
    "    pass\n",
    "\n",
    "# set seed\n",
    "torch.manual_seed(999)\n",
    "\n",
    "# define number of training examples\n",
    "num_training_examples = 5\n",
    "\n",
    "# define number of features\n",
    "num_features = 3\n",
    "\n",
    "# define \"dataset\"\n",
    "dataset = torch.randint(low=0, high=20, size=(num_training_examples,num_features), dtype=torch.float32)\n",
    "dataset"
   ]
  },
  {
   "cell_type": "markdown",
   "metadata": {},
   "source": [
    "### Create neural network\n",
    "\n",
    "Next, we create a neural network with 3 linear layers. Check out Pytorch's docs on the [Linear layer](https://pytorch.org/docs/stable/generated/torch.nn.Linear.html#torch.nn.Linear) for more info."
   ]
  },
  {
   "cell_type": "code",
   "execution_count": null,
   "metadata": {},
   "outputs": [],
   "source": [
    "# create architecture of binary logistic regression classifier\n",
    "class BinaryLogisticRegression(nn.Module):\n",
    "    def __init__(self, x_dim, out1 = 16, out2 = 32):\n",
    "        super(BinaryLogisticRegression, self).__init__()\n",
    "\n",
    "        # instantiate linear layers\n",
    "        self.linear1 = torch.nn.Linear(x_dim, out1)\n",
    "        self.linear2 = torch.nn.Linear(out1, out2)\n",
    "        self.linear3 = torch.nn.Linear(out2, 1)\n",
    "\n",
    "    def forward(self, x):\n",
    "        # apply ReLU activation to linear layer 1\n",
    "        x = torch.relu(self.linear1(x))\n",
    "        \n",
    "        # apply ReLU activation to linear layer 2\n",
    "        x = torch.relu(self.linear2(x))\n",
    "        \n",
    "        # apply Sigmoid activation to linear layer 3\n",
    "        y = torch.sigmoid(self.linear3(x))\n",
    "        return y\n",
    "\n",
    "\n",
    "# instantiate the classifier\n",
    "neural_net = BinaryLogisticRegression(num_features)"
   ]
  },
  {
   "cell_type": "markdown",
   "metadata": {},
   "source": [
    "### Pass the dataset of size 5x3 to the network\n",
    "\n",
    "Now pass the dataset $X$ to the neural net to output $Y$:"
   ]
  },
  {
   "cell_type": "code",
   "execution_count": null,
   "metadata": {},
   "outputs": [],
   "source": [
    "y = neural_net(dataset)\n",
    "y"
   ]
  },
  {
   "cell_type": "markdown",
   "metadata": {},
   "source": [
    "### Threshold\n",
    "Next, categorize $Y$ according to a threshold of 0.5 to classify the training examples into 2 classes."
   ]
  },
  {
   "cell_type": "code",
   "execution_count": null,
   "metadata": {},
   "outputs": [],
   "source": [
    "y_classes = torch.where(y > 0.5, torch.tensor(1), torch.tensor(0))\n",
    "y_classes"
   ]
  },
  {
   "cell_type": "markdown",
   "metadata": {},
   "source": [
    "#### <font color=\"red\">Note:</font> Remember - this model is not trained - this is just for example.\n",
    "\n",
    "Through the process of training the neural network on thousands of examples it learns to accurately map the input data $X$ to $Y$, and can be applied to multinomial classification as well as much more interesting supervised tasks.\n",
    "\n",
    "### What about network parameters?\n",
    "\n",
    "How many parameters/coefficients does the network have? After all, these are the very coefficients that are optimized to **accurately** map $X$ to  $Y$ (a neural network is not fancy code - but a statistical model).\n",
    "\n",
    "Let's find out:"
   ]
  },
  {
   "cell_type": "code",
   "execution_count": null,
   "metadata": {},
   "outputs": [],
   "source": [
    "# Function to count number of parameters in Pytorch neural network\n",
    "def count_parameters(model, view_by_layer = False):\n",
    "    if view_by_layer is True:\n",
    "        tensor_list = model.state_dict().items()\n",
    "        total_params = [] \n",
    "        \n",
    "        for layer_name, tensor in tensor_list:\n",
    "            num_elements = torch.numel(tensor)\n",
    "            total_params.append(num_elements)\n",
    "            print(f'Layer name {layer_name}: {num_elements} elements')\n",
    "\n",
    "        print(f\"Total parameters: {sum(total_params)}\\n\")\n",
    "        \n",
    "    return sum(p.numel() for p in model.parameters() if p.requires_grad)\n",
    "\n",
    "num_parameters = count_parameters(neural_net, view_by_layer = True)\n",
    "num_parameters"
   ]
  },
  {
   "cell_type": "markdown",
   "metadata": {},
   "source": [
    "### Takeaway\n",
    "\n",
    "As we can see - this network of only 3 layers with 16, 32, and 1 hidden units each contains 641 parameters (including weights and biases). That's a long polynominal to make predictions for such a small 3-dimensional feature dataset.\n",
    "\n",
    "Neural networks with even a couple layers can be powerful approximators of policy and value functions in reinforcement learning. \n",
    "\n",
    "Next, let's train a neural network on the Wine dataset from Kaggle.\n",
    "\n",
    "### <font color=\"blue\">Exercise 1: Training a neural network</font>\n"
   ]
  },
  {
   "cell_type": "markdown",
   "metadata": {},
   "source": [
    "If a GPU is available to train on (which we're not counting on for this lab), we specify the device:"
   ]
  },
  {
   "cell_type": "code",
   "execution_count": null,
   "metadata": {},
   "outputs": [],
   "source": [
    "skip_training = False\n",
    "device = torch.device('cuda' if torch.cuda.is_available() else 'cpu')"
   ]
  },
  {
   "cell_type": "markdown",
   "metadata": {},
   "source": [
    "#### About the dataset\n",
    "\n",
    "We'll be performing a binary classification training task with the Wine Dataset, originally from [here](https://archive.ics.uci.edu/ml/datasets/wine). Notes:\n",
    "* Our dataset consists of both red and white wines. \n",
    "* There are 11 predictor variables and 1 target variable"
   ]
  },
  {
   "cell_type": "markdown",
   "metadata": {},
   "source": [
    "#### Import the dataset\n",
    "\n",
    "Import the dataset from csv to pandas dataframes:"
   ]
  },
  {
   "cell_type": "code",
   "execution_count": null,
   "metadata": {},
   "outputs": [],
   "source": [
    "# pandas df\n",
    "df = pd.concat([\n",
    "    pd.read_csv('winequality-red.csv', delimiter=';'),\n",
    "    pd.read_csv('winequality-white.csv', delimiter=';')\n",
    "])\n",
    "\n",
    "num_features = df.shape[1]-1\n",
    "\n",
    "print(\"Data shape: \", df.shape)"
   ]
  },
  {
   "cell_type": "code",
   "execution_count": null,
   "metadata": {},
   "outputs": [],
   "source": [
    "# view top 5 rows\n",
    "df.head()"
   ]
  },
  {
   "cell_type": "markdown",
   "metadata": {},
   "source": [
    "The 'quality' column is our y-label/target column. Let's view the distinct values for quality:"
   ]
  },
  {
   "cell_type": "code",
   "execution_count": null,
   "metadata": {},
   "outputs": [],
   "source": [
    "sorted_labels = sorted(df.quality.unique())\n",
    "num_classes = len(sorted_labels)\n",
    "sorted_labels"
   ]
  },
  {
   "cell_type": "markdown",
   "metadata": {},
   "source": [
    "The quality of wines in this dataset are categorized by discrete values ranging from 3 to 9.\n",
    "\n",
    "#### Convert labels for binary classification\n",
    "\n",
    "#### ❗ Classification Task: \n",
    "➡️ We will be predicting whether the quality of a wine is greater than or equal to 7. So we need to convert the y-labels into 2 classes (0 - less than 7, and 1 - greater than or equal to 7):"
   ]
  },
  {
   "cell_type": "code",
   "execution_count": null,
   "metadata": {},
   "outputs": [],
   "source": [
    "if 0 not in df['quality'].values:\n",
    "    df['quality'] = np.where((df.quality >= 7), 1.0 , 0.0)\n",
    "\n",
    "df['quality'].tail()"
   ]
  },
  {
   "cell_type": "markdown",
   "metadata": {},
   "source": [
    "#### Data preprocessing\n",
    "\n",
    "Next, we need to do some data preprocessing:\n",
    "\n",
    "1. Split the data in to train-test groups\n",
    "2. Scale the data about the mean and sd\n",
    "3. Convert the dataframe data to tensors for Pytorch\n",
    "4. Create Pytorch dataloaders for batch training"
   ]
  },
  {
   "cell_type": "markdown",
   "metadata": {},
   "source": [
    "#### Split data in to train-test groups "
   ]
  },
  {
   "cell_type": "code",
   "execution_count": null,
   "metadata": {},
   "outputs": [],
   "source": [
    "x_features = df.drop('quality', axis=1)\n",
    "y_labels = df['quality']\n",
    "x_train, x_test, y_train, y_test = train_test_split(x_features, y_labels, test_size=0.20, random_state=42)"
   ]
  },
  {
   "cell_type": "markdown",
   "metadata": {},
   "source": [
    "#### Scale data about the mean"
   ]
  },
  {
   "cell_type": "code",
   "execution_count": null,
   "metadata": {},
   "outputs": [],
   "source": [
    "scaler = StandardScaler()\n",
    "scaler.fit(x_train)\n",
    "x_train_scaled = scaler.transform(x_train)\n",
    "x_test_scaled = scaler.transform(x_test)"
   ]
  },
  {
   "cell_type": "markdown",
   "metadata": {},
   "source": [
    "#### Convert df data to tensors for Pytorch"
   ]
  },
  {
   "cell_type": "code",
   "execution_count": null,
   "metadata": {},
   "outputs": [],
   "source": [
    "x_train_scaled = torch.as_tensor(x_train_scaled.astype(np.float32))\n",
    "y_train = torch.as_tensor(y_train.tolist(), dtype=torch.float32).unsqueeze(-1)\n",
    "x_test_scaled = torch.as_tensor(x_test_scaled.astype(np.float32))\n",
    "y_test = torch.as_tensor(y_test.tolist(), dtype=torch.float32).unsqueeze(-1)\n",
    "\n",
    "# concatenate into train and test sets\n",
    "train_set = torch.cat((x_train_scaled, y_train), dim=1)\n",
    "test_set = torch.cat((x_test_scaled, y_test), dim=1)"
   ]
  },
  {
   "cell_type": "markdown",
   "metadata": {},
   "source": [
    "#### Create dataloaders for training with batches"
   ]
  },
  {
   "cell_type": "code",
   "execution_count": null,
   "metadata": {},
   "outputs": [],
   "source": [
    "batch_size = 256\n",
    "\n",
    "trainloader = torch.utils.data.DataLoader(train_set, batch_size, shuffle=False)\n",
    "testloader = torch.utils.data.DataLoader(test_set, batch_size, shuffle=False)"
   ]
  },
  {
   "cell_type": "markdown",
   "metadata": {},
   "source": [
    "#### Instantiate a neural network\n",
    "\n",
    "Instantiate the neural network from above with 256 and 128 neurons in the first two layers, respectively:"
   ]
  },
  {
   "cell_type": "code",
   "execution_count": null,
   "metadata": {
    "scrolled": true
   },
   "outputs": [],
   "source": [
    "model = BinaryLogisticRegression(num_features, 256, 128)\n",
    "\n",
    "# send the model to 'device' (GPU or CPU)\n",
    "model.to(device)"
   ]
  },
  {
   "cell_type": "markdown",
   "metadata": {},
   "source": [
    "#### Define function to compute accuracy\n",
    "\n",
    "The function below is called at the end of each epoch to compute the accuracy of the model."
   ]
  },
  {
   "cell_type": "code",
   "execution_count": null,
   "metadata": {},
   "outputs": [],
   "source": [
    "# Compute the accuracy of the model on the given dataset\n",
    "def compute_accuracy(model, batchloader):\n",
    "    with torch.no_grad():\n",
    "        for i, batch in enumerate(batchloader):\n",
    "            x_features = batch[:,:-1]\n",
    "            y_actual = batch[:,-1]\n",
    "            y_pred = (model.forward(x_features).flatten() > 0.5).float()\n",
    "            loss = criterion(y_pred, y_actual)\n",
    "            accuracy = sum(y_actual == y_pred).float() / y_actual.numel()\n",
    "            return accuracy"
   ]
  },
  {
   "cell_type": "markdown",
   "metadata": {},
   "source": [
    "### <font color=\"blue\">Problem 1.1</font>\n",
    "\n",
    "#### 🎯 Task 1: create a training loop for the model. Follow the instructions in the comments below."
   ]
  },
  {
   "cell_type": "code",
   "execution_count": null,
   "metadata": {
    "scrolled": false
   },
   "outputs": [],
   "source": [
    "# Implement the training loop in this cell\n",
    "if not skip_training:\n",
    "    \"\"\" Instructions:\n",
    "        \n",
    "        Implement:\n",
    "        * a loss function in the 'criterion' variable \n",
    "        * an optimizer in the 'optimizer' variable\n",
    "        * number of epochs in `n_epochs`\n",
    "        \n",
    "        Notes:\n",
    "        * for criterion, use BinaryCrossEntropy: https://pytorch.org/docs/stable/generated/torch.nn.BCELoss.html#torch.nn.BCELoss\n",
    "        * for optimizer:, use Adam: https://pytorch.org/docs/stable/optim.html#torch.optim.Adam\n",
    "        \n",
    "    \"\"\"\n",
    "    ### YOUR SOLUTION BELOW\n",
    "    raise NotImplementedError # replace with your code\n",
    "    ### YOUR SOLUTION ABOVE\n",
    "    n_epochs = 150\n",
    "\n",
    "    for epoch in range(n_epochs):\n",
    "        model.train()\n",
    "        running_loss = 0.0\n",
    "        \n",
    "        \"\"\" Instructions:\n",
    "        \n",
    "            Implement a training loop for the model.\n",
    "            \n",
    "            Hint: it will look a lot like the `compute_accuracy` method\n",
    "    \n",
    "        \"\"\"\n",
    "        \n",
    "        ### YOUR SOLUTION BELOW\n",
    "        raise NotImplementedError # replace with your code\n",
    "        ### YOUR SOLUTION ABOVE\n",
    "            \n",
    "        train_accuracy = compute_accuracy(model, trainloader)\n",
    "        print(f\"epoch: {epoch} - running_loss: {running_loss:.3f} - train_accuracy: {train_accuracy:.2%}\", end=\"\\r\")"
   ]
  },
  {
   "cell_type": "markdown",
   "metadata": {},
   "source": [
    "### Test accuracy\n",
    "* Your model should achieve an accuracy on the <font color=\"red\">test set</font> of at least => **85%** in 150 epochs. If it fails to achieve this threshold, think of ways to improve it!"
   ]
  },
  {
   "cell_type": "code",
   "execution_count": null,
   "metadata": {},
   "outputs": [],
   "source": [
    "test_accuracy = compute_accuracy(model, testloader)\n",
    "print(f\"Accuracy on test set: {test_accuracy.item():.2%}\")"
   ]
  },
  {
   "cell_type": "markdown",
   "metadata": {},
   "source": [
    "### <font color=\"orange\">Auto-grading</font>\n",
    "Run this cell to save your answer for problem 1.1."
   ]
  },
  {
   "cell_type": "code",
   "execution_count": null,
   "metadata": {},
   "outputs": [],
   "source": [
    "### GRADING DO NOT MODIFY\n",
    "lab2_answers.record('problem_1-1', test_accuracy.item())"
   ]
  },
  {
   "cell_type": "markdown",
   "metadata": {},
   "source": [
    "### <font color=\"blue\">Exercise 2: Solving minigrid 5x5</font>\n",
    "\n",
    "In this exercise we will solve the 5x5 (really: 3x3) gym-minigrid environment presented in section 1 with a neural network trained with cross entropy loss. For multi-class (C > 2), discrete probability distributions, cross entropy loss is defined as: \n",
    "\n",
    "$$C(p,q) = -\\sum_{x\\in{X}}p(x)\\log{q(x)}$$\n",
    "\n",
    "By now you are familiar with the basics of working with OpenAI environments, but let's refresh our memory on the general cycle of agent learning. The agent:\n",
    "1. Receives observations\n",
    "2. Selects an action (based on policy function or value function)\n",
    "3. Takes a step in the environment with the action\n",
    "4. Receives a reward and the new state of the environment.\n",
    "\n",
    "#### In this exercise, we will focus on approximating the policy function with neural networks.\n",
    "\n",
    "Our overall algorithm will be the following:\n",
    "\n",
    "1. Create a neural network (NN) to approximate policy\n",
    "2. Build a buffer of **episodes** of experiences $(s_t, a_t, r_t)$, with the NN selecting actions for each step \n",
    "3. Filter the buffer to keep only episodes with the most rewards (specified by a percentile).\n",
    "4. Train the neural network to learn the optimal policy from the best episodes (from step #3)\n",
    "5. Repeat until a threshold of reward is achieved\n",
    "\n",
    "### <font color=\"blue\">Problem 2.1</font>\n",
    "\n",
    "#### 🎯 Task 1: Create a neural network with 2 layers below:"
   ]
  },
  {
   "cell_type": "code",
   "execution_count": null,
   "metadata": {},
   "outputs": [],
   "source": [
    "class PolicyNN(nn.Module):\n",
    "    def __init__(self, obs_size, hidden_size, n_actions):\n",
    "        super(PolicyNN, self).__init__()\n",
    "        ### YOUR SOLUTION BELOW\n",
    "        raise NotImplementedError # replace with your code\n",
    "        ### YOUR SOLUTION ABOVE\n",
    "\n",
    "    def forward(self, x):\n",
    "        if x.ndim == 3:\n",
    "            x = x.flatten().unsqueeze(0)\n",
    "        elif x.ndim > 3:\n",
    "            x = x.flatten(start_dim=1)\n",
    "\n",
    "        ### YOUR SOLUTION BELOW\n",
    "        raise NotImplementedError # replace with your code\n",
    "        ### YOUR SOLUTION ABOVE\n",
    "        return x\n",
    "    \n",
    "test_net = PolicyNN(16, 128, 7)\n",
    "n_lin_layers = len(set(map(lambda layer: layer.split(\".\")[0], test_net.state_dict().keys())))\n",
    "print(\"Num linear layers: \", n_lin_layers)"
   ]
  },
  {
   "cell_type": "markdown",
   "metadata": {},
   "source": [
    "### <font color=\"orange\">Auto-grading</font>\n",
    "Run this cell to save your answer for problem 2.1."
   ]
  },
  {
   "cell_type": "code",
   "execution_count": null,
   "metadata": {},
   "outputs": [],
   "source": [
    "### GRADING DO NOT MODIFY\n",
    "lab2_answers.record('problem_2-1', n_lin_layers)"
   ]
  },
  {
   "cell_type": "markdown",
   "metadata": {},
   "source": [
    "### <font color=\"blue\">Problem 2.2</font>\n",
    "\n",
    "Problem 2.2 contains 2 tasks:\n",
    "\n",
    "**<font color=\"blue\">Task 1</font>**: Fill in the code specified the `_iterate_batches` method (designated by comments).\n",
    "\n",
    "#### Hints:\n",
    "* Study all of the variables and methods of the class to get an intuiton about the algorithm works as a whole\n",
    "* Read about [namedtuple](https://docs.python.org/3/library/collections.html#collections.namedtuple)\n",
    "* Read about Pytorch's [Softmax](https://pytorch.org/docs/stable/generated/torch.nn.Softmax.html#torch.nn.Softmax) function\n",
    "* Read about Pytorch's [Cross Entropy loss function](https://pytorch.org/docs/stable/generated/torch.nn.Softmax.html#torch.nn.Softmax)\n",
    "* Recall the definition of a **experience, trajectory, and episode** from homework 1.\n",
    "* Use `np.random.choice`\n",
    "\n",
    "**<font color=\"blue\">Task 2</font>**: Implement network training in  `run_training` method.\n",
    "* Use your knowledge from problem 1.1\n",
    "\n",
    "#### 🎯 Implement both tasks 1 and 2 below:"
   ]
  },
  {
   "cell_type": "code",
   "execution_count": null,
   "metadata": {},
   "outputs": [],
   "source": [
    "class CrossEntropyAgent:\n",
    "    def __init__(self, env_name, hidden_size=128, batch_size = 100, percentile = 30, gamma = 0.95, reward_threshold=0.80, loss_threshold = 0.5):\n",
    "        self.env = gym.make(env_name)\n",
    "        self.env = OneHotPartialObsWrapper(self.env)\n",
    "        self.env = ImgObsWrapper(self.env)\n",
    "        \n",
    "        self.hidden_size = hidden_size\n",
    "        self.batch_size = batch_size\n",
    "        self.percentile = percentile\n",
    "        self.gamma = gamma\n",
    "        self.reward_threshold = reward_threshold\n",
    "        self.all_batches = []\n",
    "        self.reward_mean = 0\n",
    "        self.Episode = namedtuple('Episode', field_names=['reward', 'trajectory'])\n",
    "        self.Experience = namedtuple('Experience', field_names=['state', 'action'])\n",
    "        self.loss = 100\n",
    "        self.loss_threshold = 0.5\n",
    "\n",
    "        obs_size = np.prod(self.env.observation_space.shape)\n",
    "        n_actions = self.env.action_space.n\n",
    "\n",
    "        self.policy = PolicyNN(obs_size, hidden_size, n_actions)\n",
    "        self.criterion = nn.CrossEntropyLoss()\n",
    "        self.optimizer = optim.Adam(params=self.policy.parameters(), lr=1e-2)\n",
    "\n",
    "    def render_env(self):\n",
    "        plt.imshow(self.env.render(mode='rgb_array', highlight=False))\n",
    "\n",
    "    def video_callable(self, episode_id):\n",
    "        episode_num = episode_id+1\n",
    "        boolean = True\n",
    "        return boolean\n",
    "        \n",
    "    def _iterate_batches(self, evaluate = False):\n",
    "        batch_of_episodes = []\n",
    "        episode_reward = 0.0\n",
    "        trajectory = []\n",
    "        state = self.env.reset()\n",
    "        softmax = nn.Softmax(dim=1)\n",
    "\n",
    "        if evaluate:\n",
    "            i = 1\n",
    "        \n",
    "        while True:            \n",
    "            state_tensor = torch.FloatTensor([state])\n",
    "            \n",
    "            ### FILL IN YOUR SOLUTION BELOW\n",
    "\n",
    "            # pass state tensor to policy neural network, wrap in a softmax to get probabilities, and then flatten the output\n",
    "            action_probs = None\n",
    "\n",
    "            if self.loss < self.loss_threshold:\n",
    "                # get argmax of action probs; make sure to call item()\n",
    "                action = None\n",
    "            else:\n",
    "                # detach action probs, convert to numpy array\n",
    "                action_probs = None\n",
    "                \n",
    "                # sample action from action probs\n",
    "                action = None\n",
    "\n",
    "            # take step with action     \n",
    "            # increment episode_reward\n",
    "            # append experience to trajectory\n",
    "            \n",
    "            raise NotImplementedError # delete this when your solution is complete\n",
    "            \n",
    "            ### FILL IN YOUR SOLUTION ABOVE\n",
    "            \n",
    "            if is_done:\n",
    "                if evaluate == False:\n",
    "                    batch_of_episodes.append(self.Episode(reward=episode_reward, trajectory=trajectory))\n",
    "                    episode_reward = 0.0\n",
    "                    trajectory = []\n",
    "                    new_state = self.env.reset()\n",
    "                    \n",
    "                    if len(batch_of_episodes) == self.batch_size:\n",
    "                        yield batch_of_episodes\n",
    "                        batch_of_episodes = []\n",
    "\n",
    "                else:\n",
    "                    if i == 3:\n",
    "                        print(\"...Done recording.\")\n",
    "                        break\n",
    "                    else:\n",
    "                        new_state = self.env.reset()\n",
    "                        i += 1\n",
    "            \n",
    "            state = new_state\n",
    "\n",
    "    def _filter_batch(self, batch_of_episodes):\n",
    "        disc_rewards = list(map(lambda episode: episode.reward * (self.gamma ** len(episode.trajectory)), batch_of_episodes))\n",
    "        reward_bound = np.percentile(disc_rewards, self.percentile)\n",
    "\n",
    "        states = []\n",
    "        actions = []\n",
    "        top_batches = []\n",
    "\n",
    "        for episode, discounted_reward in zip(batch_of_episodes, disc_rewards):\n",
    "            if discounted_reward > reward_bound:\n",
    "                states.extend(map(lambda experience: experience.state, episode.trajectory))\n",
    "                actions.extend(map(lambda experience: experience.action, episode.trajectory))\n",
    "                top_batches.append(episode)\n",
    "\n",
    "        return top_batches, torch.FloatTensor(states), torch.LongTensor(actions), reward_bound\n",
    "\n",
    "    def run_training(self, increment_ptl_by = 1, record_video=True):\n",
    "        try:\n",
    "            for iter_no, batch_of_episodes in enumerate(self._iterate_batches(), start=1):\n",
    "                self.reward_mean = float(np.mean(list(map(lambda episode: episode.reward, batch_of_episodes))))\n",
    "\n",
    "                self.all_batches.extend(batch_of_episodes)\n",
    "                \n",
    "                top_batches, states, best_actions, reward_bound = self._filter_batch(self.all_batches)\n",
    "                \n",
    "                if not top_batches:\n",
    "                    print(f\"iter {iter_no}: top_batches empty, continuing to next iteration... Percentile = {self.percentile}\")\n",
    "                    self.percentile -= 5\n",
    "                    continue\n",
    "    \n",
    "                self.all_batches = top_batches\n",
    "\n",
    "                ### YOUR SOLUTION BELOW\n",
    "                raise NotImplementedError\n",
    "                ### YOUR SOLUTION ABOVE\n",
    "                \n",
    "                print(f\"{iter_no}, loss: {self.loss.item():.3f}, reward_mean: {self.reward_mean:.3f}, percentile: {self.percentile}, n_batches: {len(self.all_batches)}\")\n",
    "    \n",
    "                \n",
    "                if self.reward_mean >= self.reward_threshold:\n",
    "                    print(\"Solved!\")\n",
    "\n",
    "                    if record_video:\n",
    "                        print(\"Recording videos...\")\n",
    "                        self.env = wrappers.Monitor(self.env, \"./video\", force=True, video_callable=lambda episode_id: True)\n",
    "                        \n",
    "                        for _ in self._iterate_batches(evaluate=True):\n",
    "                            break\n",
    "                    \n",
    "                    break\n",
    "                else:\n",
    "                    if self.percentile < 80:\n",
    "                        self.percentile += increment_ptl_by\n",
    "                    \n",
    "                    else:\n",
    "                        self.percentile = 60\n",
    "\n",
    "        except KeyboardInterrupt:\n",
    "            print(\"Training cancelled.\")\n",
    "            \n",
    "        except NotImplementedError:\n",
    "            print(\"Solution incomplete.\")"
   ]
  },
  {
   "cell_type": "markdown",
   "metadata": {},
   "source": [
    "### Run simulation\n",
    "\n",
    "* Expect the level below to be solved in 4 to 15 iterations.\n",
    "* This code records 3 videos of the agent performing after training (i.e. 3 episodes). \n",
    "    * **Note**: Even if the agent has a high *mean reward* during training, <font color=\"red\">it doesn't mean it will solve the level on every episode during the recording</font>. This is an inherent problem with such algorithms and we will discuss why in future lessons.\n",
    "* By default, the code below will create a /video/ folder (in the current directory) "
   ]
  },
  {
   "cell_type": "code",
   "execution_count": null,
   "metadata": {
    "scrolled": false
   },
   "outputs": [],
   "source": [
    "env_name = \"MiniGrid-Empty-5x5-v0\"\n",
    "\n",
    "agent = CrossEntropyAgent(env_name, percentile=60, reward_threshold=0.80)\n",
    "agent.run_training()"
   ]
  },
  {
   "cell_type": "markdown",
   "metadata": {},
   "source": [
    "### <font color=\"orange\">Auto-grading</font>\n",
    "Run this cell to track your answers and to save your answer for problem 2.2."
   ]
  },
  {
   "cell_type": "code",
   "execution_count": null,
   "metadata": {},
   "outputs": [],
   "source": [
    "### GRADING DO NOT MODIFY\n",
    "lab2_answers.record('problem_2-2', agent.reward_mean)"
   ]
  },
  {
   "cell_type": "markdown",
   "metadata": {},
   "source": [
    "### Take some time to think\n",
    "\n",
    "If you run this algorithm numerous times, you'll notice it's performance varies quite a bit. Imagine if such an algorithm were implemented in a medical setting; it would be a  disaster.\n",
    "\n",
    "One of its core weaknesses is the need to guess and test hyperparameters, most importantly the `loss_threshold` that we use to either sample actions from the policy, or alternatively, to select the maximum probability action.\n",
    "\n",
    "And even *after* the trial and error of selecting the \"best\" hyperparameters, the performance of the algorithm **still** varies greatly.\n",
    "\n",
    "### <font color=\"blue\">Problem 2.3</font>\n",
    "\n",
    "**Question**: Do you think there is a better way to solve environments such as this one (finite state-spaces), and **especially** continuous state-spaces?"
   ]
  },
  {
   "cell_type": "code",
   "execution_count": null,
   "metadata": {},
   "outputs": [],
   "source": [
    "\"\"\"\n",
    "Replace 'None' with 1 (for yes) or 0 (for no)\n",
    "\"\"\"\n",
    "### YOUR ANSWER BELOW\n",
    "answer = None\n",
    "### YOUR ANSWER ABOVE"
   ]
  },
  {
   "cell_type": "markdown",
   "metadata": {},
   "source": [
    "### <font color=\"orange\">Auto-grading</font>\n",
    "Run this cell to track your answers and to save your answer for problem 2.3."
   ]
  },
  {
   "cell_type": "code",
   "execution_count": null,
   "metadata": {},
   "outputs": [],
   "source": [
    "### GRADING DO NOT MODIFY\n",
    "lab2_answers.record('problem_2-3', answer)"
   ]
  },
  {
   "cell_type": "markdown",
   "metadata": {},
   "source": [
    "### <font color=\"orange\">Auto-grading: Submit your answers</font>\n",
    "Enter your first and last name in the cell below and then run it to save your answers for this lab to a JSON file. The file is saved to the same directory as this notebook. After the file is created, upload the JSON file to the assignment page on Canvas."
   ]
  },
  {
   "cell_type": "code",
   "execution_count": null,
   "metadata": {},
   "outputs": [],
   "source": [
    "lab2_answers.print_answers()"
   ]
  },
  {
   "cell_type": "code",
   "execution_count": null,
   "metadata": {},
   "outputs": [],
   "source": [
    "assignment_name = \"lab_2\"\n",
    "first_name = \"YOUR_FIRST_NAME\" # Use proper capitalization\n",
    "last_name = \"YOUR_LAST_NAME\" # Use proper capitalization\n",
    "\n",
    "lab2_answers.save_to_json(assignment_name, first_name, last_name)"
   ]
  },
  {
   "cell_type": "markdown",
   "metadata": {},
   "source": [
    "### <font color=\"8F00FF\">Optional Exercise 3</font>: A tougher environment?\n",
    "\n",
    "Let's try running the cross entropy algorithm above on a tougher environment ([more levels here](https://github.com/maximecb/gym-minigrid)), namely with lava lakes that the agent has to avoid:"
   ]
  },
  {
   "cell_type": "code",
   "execution_count": null,
   "metadata": {},
   "outputs": [],
   "source": [
    "env_name = \"MiniGrid-DistShift1-v0\"\n",
    "\n",
    "agent2 = CrossEntropyAgent(env_name, percentile=60, reward_threshold=0.75)\n",
    "agent2.render_env()"
   ]
  },
  {
   "cell_type": "markdown",
   "metadata": {},
   "source": [
    "<font color=\"red\">Note:</font>\n",
    "* Watch out for the \"BrokenPipeError\" - which is a known bug in OpenAI's Monitor Wrapper that has to do with multithreading.\n",
    "* If you experience this error (usually at around 17 iterations), you'll need to restart your kernel and run Exercise 3 again. Remember to execute all of the imports and other dependencies in the notebook as well."
   ]
  },
  {
   "cell_type": "code",
   "execution_count": null,
   "metadata": {},
   "outputs": [],
   "source": [
    "agent2.run_training()"
   ]
  },
  {
   "cell_type": "markdown",
   "metadata": {},
   "source": [
    "### Takeaways\n",
    "\n",
    "Think about the question - is there a more (mathematically) rigorous way to design algorithms that guarantee performance, especially for use in real-life applications?"
   ]
  },
  {
   "cell_type": "markdown",
   "metadata": {},
   "source": [
    "### Questions?\n",
    "\n",
    "Reach out to your instructors on Piazza.\n",
    "\n",
    "### Sources\n",
    "\n",
    "***\n",
    "\n",
    "[1] Gym-minigrid, https://github.com/maximecb/gym-minigrid\n",
    "\n",
    "[2] Chevalier-Boisvert, M., Bahdanau, D., Lahlou, S., Willems, L., Saharia, C., Nguyen, T. H. & Bengio, Y. (2019). BabyAI: A Platform to Study the Sample Efficiency of Grounded Language Learning.. ICLR (Poster), : OpenReview.net. \n"
   ]
  }
 ],
 "metadata": {
  "kernelspec": {
   "display_name": "Python 3",
   "language": "python",
   "name": "python3"
  },
  "language_info": {
   "codemirror_mode": {
    "name": "ipython",
    "version": 3
   },
   "file_extension": ".py",
   "mimetype": "text/x-python",
   "name": "python",
   "nbconvert_exporter": "python",
   "pygments_lexer": "ipython3",
   "version": "3.7.4"
  }
 },
 "nbformat": 4,
 "nbformat_minor": 2
}
